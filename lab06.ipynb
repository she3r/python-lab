{
 "cells": [
  {
   "cell_type": "markdown",
   "metadata": {
    "pycharm": {
     "name": "#%% md\n"
    }
   },
   "source": [
    "## Lab 06"
   ]
  },
  {
   "cell_type": "markdown",
   "metadata": {
    "pycharm": {
     "name": "#%% md\n"
    }
   },
   "source": [
    "### Zadanie 1 - Regexy"
   ]
  },
  {
   "cell_type": "markdown",
   "metadata": {
    "pycharm": {
     "name": "#%% md\n"
    }
   },
   "source": [
    "Przejdź 15 zadań ze strony http://regexone.com/"
   ]
  },
  {
   "cell_type": "markdown",
   "metadata": {
    "pycharm": {
     "name": "#%% md\n"
    }
   },
   "source": [
    "### Zadanie 2 - Regexy"
   ]
  },
  {
   "cell_type": "markdown",
   "metadata": {
    "pycharm": {
     "name": "#%% md\n"
    }
   },
   "source": [
    "_Atoms_\n",
    "\n",
    "Napisz program, który (używając wyrażeń regularnych) przefiltruje plik atoms.log tak by pozostały jedynie linie dot. bezproblemowego przebiegu eksperymentu.\n",
    "czyli np. powinny zostać odrzucone takie linie jak\n",
    "```\n",
    "RUN 000039 COMPLETED. OUTPUT IN FILE yttrium.dat. 1 UNDERFLOW WARNING.\n",
    "```\n",
    "czy\n",
    "```\n",
    "RUN 000058 COMPLETED. OUTPUT IN FILE cerium.dat. ALGORITHM DID NOT CONVERGE AFTER 100000 ITERATIONS.\n",
    "```\n",
    "można jedynie założyć, że każda linijka pasuje do poniższego schematu\n",
    "```\n",
    "RUN [[NUMER Z DOKŁADNIE 6 CYFR]] COMPLETED. OUTPUT IN FILE [[NAZWA]].dat. [[COKOLWIEK]]\n",
    "```"
   ]
  },
  {
   "cell_type": "code",
   "execution_count": 33,
   "metadata": {
    "collapsed": true,
    "pycharm": {
     "name": "#%%\n"
    }
   },
   "outputs": [
    {
     "name": "stdout",
     "output_type": "stream",
     "text": [
      "['RUN 000039 COMPLETED. OUTPUT IN FILE yttrium.dat. 1 UNDERFLOW WARNING.']\n",
      "['RUN 000058 COMPLETED. OUTPUT IN FILE cerium.dat. ALGORITHM DID NOT CONVERGE AFTER 100000 ITERATIONS.']\n",
      "[]\n"
     ]
    }
   ],
   "source": [
    "import re\n",
    "test1 = 'RUN 000039 COMPLETED. OUTPUT IN FILE yttrium.dat. 1 UNDERFLOW WARNING.'\n",
    "test2 = 'RUN 000058 COMPLETED. OUTPUT IN FILE cerium.dat. ALGORITHM DID NOT CONVERGE AFTER 100000 ITERATIONS.'\n",
    "test3 = 'RUN 987665 FAILED. STRASZNE RZECZY SIE TU WYDARZYLY. SZKODA GADAC.'\n",
    "pattern1 = re.compile(r'RUN \\d{6} COMPLETED. OUTPUT IN FILE \\S+\\.dat\\. .*')\n",
    "\n",
    "print(re.findall(pattern1,test1)) # findall zamiast search zeby zdobyc pelne rozwiazanie\n",
    "print(re.findall(pattern1,test2)) # findall zamiast search zeby zdobyc pelne rozwiazanie\n",
    "print(re.findall(pattern1,test3)) # findall zamiast search zeby zdobyc pelne rozwiazanie\n",
    "\n",
    "# with open('atoms.log') as atoms:\n",
    "#     for line in atoms:\n",
    "#         if ...:\n",
    "#             print(line)"
   ]
  },
  {
   "cell_type": "markdown",
   "metadata": {
    "pycharm": {
     "name": "#%% md\n"
    }
   },
   "source": [
    "### Zadanie 3 - Regexy"
   ]
  },
  {
   "cell_type": "markdown",
   "metadata": {
    "pycharm": {
     "name": "#%% md\n"
    }
   },
   "source": [
    "_Messages_\n",
    "\n",
    "Napisz program który wypisze linie z logu systemowego \"messages.txt\" które zawierają informacje o nieprawidłowej nazwie użytkownika (invalid user)"
   ]
  },
  {
   "cell_type": "code",
   "execution_count": 88,
   "metadata": {
    "collapsed": true,
    "pycharm": {
     "name": "#%%\n"
    }
   },
   "outputs": [
    {
     "name": "stdout",
     "output_type": "stream",
     "text": [
      "True\n",
      "Niepoprawna nazwa użytkownika: \"tester\", połączenie z 218.189.194.200 nawiązano 29 czerwca o godz. 20:18\n"
     ]
    }
   ],
   "source": [
    "import re, datetime\n",
    "import babel.dates as dates\n",
    "# Zalozmy ze mam plik z tymi logami. Najpierw w petli wyszukuje wiersze patternem:\n",
    "wiersz_pattern = re.compile('^.*Invalid user.*\\n$')\n",
    "# potem kazdy wiersz obrabiam nastepujaco:\n",
    "test_example = \"Jun 29 20:18:40 noether sshd[5805]: Invalid user tester from 218.189.194.200\\n\"\n",
    "print(re.search(wiersz_pattern,test_example).group() == test_example)   # upewniamy sie ze dziala na wiersze\n",
    "pattern_polaczenie = re.compile(r'\\b[[\\d]+.]{4}\\b')\n",
    "pattern_user = re.compile(r'^user (\\b[/S]+\\b)')\n",
    "pattern_date = re.compile(r'a-zA-Z{2} [0-9]{2} [[0-9]{2}:]{3}')\n",
    "\n",
    "address = str(re.search(r'\\d{1,3}\\.\\d{1,3}\\.\\d{1,3}\\.\\d{1,3}',test_example).group())\n",
    "user = str(re.search('user (\\w+)',test_example).groups()[0])\n",
    "date = str(re.search('[A-Z][a-z]{2} \\d{2} \\d{2}:\\d{2}:\\d{2}',test_example).group())\n",
    "date = datetime.datetime.strptime(date,'%b %d %H:%M:%S')\n",
    "day_month = dates.format_date(date,'d MMMM',locale='pl_PL')\n",
    "print(f'Niepoprawna nazwa użytkownika: \"{user}\", połączenie z {address} nawiązano {day_month} o godz. {date.hour}:{date.minute}')\n",
    "\n",
    "# print(re.search(pattern_user,test_example).groups())\n",
    "# with open('messages.txt') as messages:\n",
    "#     for line in messages:\n",
    "#         if ...:\n",
    "#             print(line)"
   ]
  },
  {
   "cell_type": "markdown",
   "metadata": {
    "pycharm": {
     "name": "#%% md\n"
    }
   },
   "source": [
    "Przerób program tak, żeby wyświetlał sformatowane komunikaty, tzn.\n",
    "```\n",
    "Jun 29 20:18:40 noether sshd[5805]: Invalid user tester from 218.189.194.200\n",
    "```\n",
    "powinno zostać przerobione na\n",
    "```\n",
    "Niepoprawna nazwa użytkownika: \"tester\", połaczenie z 218.189.194.200 nawiązano 29 czerwca o godz. 20:18\n",
    "```"
   ]
  },
  {
   "cell_type": "markdown",
   "metadata": {
    "pycharm": {
     "name": "#%% md\n"
    }
   },
   "source": [
    "### Zadanie 4 - Collections\n",
    "Uzupenij ponizsze funckje korzystajac z zaimporotwanych klas"
   ]
  },
  {
   "cell_type": "code",
   "execution_count": 10,
   "metadata": {
    "collapsed": true,
    "pycharm": {
     "name": "#%%\n"
    }
   },
   "outputs": [
    {
     "name": "stdout",
     "output_type": "stream",
     "text": [
      "True\n",
      "True\n",
      "True\n"
     ]
    }
   ],
   "source": [
    "from collections import defaultdict\n",
    "import re\n",
    "def count_letters(word):\n",
    "    \"\"\" Zwraca slownik gdzie kluczami sa litery, a wartosci ilosc ich wystepowania \"\"\"\n",
    "    pattern = re.compile(r'[a-z]')\n",
    "    keys = list(set(re.findall(pattern,word)))  # znajduje wszystkie pojedyncze litery\n",
    "    output = dict()\n",
    "    for key in keys:\n",
    "        output[key] = len(re.findall(key,word)) # znajduje ilosc poszczegolnych liter\n",
    "    return output\n",
    "\n",
    "\n",
    "\n",
    "print(count_letters('aaaaa') == {'a': 5})\n",
    "print(count_letters('abbccaaaa') == {'a': 5, 'b': 2, 'c': 2})\n",
    "print(count_letters('abc') == {'a': 1, 'b': 1, 'c': 1})"
   ]
  },
  {
   "cell_type": "code",
   "execution_count": 27,
   "metadata": {
    "collapsed": true,
    "pycharm": {
     "name": "#%%\n"
    }
   },
   "outputs": [
    {
     "name": "stdout",
     "output_type": "stream",
     "text": [
      "True\n",
      "True\n",
      "True\n"
     ]
    }
   ],
   "source": [
    "def group_words_by_first_letter(text):\n",
    "    \"\"\" Dzieli tekst po spacjach i zwraca slownik gdzie kluczami sa pierwsze litery, a wartosciami listy slow zaczynajacych sie na te litery\"\"\"\n",
    "    word_pattern = re.compile(r'[a-zA-Z]{2,}')\n",
    "    words = re.findall(word_pattern,text)\n",
    "    first_letters = map(lambda word: word[0],words)\n",
    "    output = dict()\n",
    "    for letter in first_letters:\n",
    "        values = re.findall(rf'\\b[{letter}][a-zA-Z]+\\b',text)   # slowo sklada sie z /letter/ i pewnej ilosci znakow alfabetycznych\n",
    "        output[letter] = values\n",
    "    return output\n",
    "\n",
    "\n",
    "print(group_words_by_first_letter(\"ala ma kota\") == {'a': ['ala'], 'm': ['ma'], 'k': ['kota']})\n",
    "print(group_words_by_first_letter(\"ala ma kota ala ma psa\") == {'a': ['ala', 'ala'], 'm': ['ma', 'ma'], 'k': ['kota'], 'p': ['psa']})   \n",
    "print(group_words_by_first_letter(\"ala ma kota ale marysia ma konia\") == {'a': ['ala', 'ale'], 'm': ['ma', 'marysia', 'ma'], 'k': ['kota', 'konia']})"
   ]
  },
  {
   "cell_type": "markdown",
   "metadata": {
    "pycharm": {
     "name": "#%% md\n"
    }
   },
   "source": [
    "### Zadanie 5 - Klasy\n",
    "Uzupełnij brakujące metody poniższej klasy."
   ]
  },
  {
   "cell_type": "code",
   "execution_count": 4,
   "metadata": {
    "collapsed": true,
    "pycharm": {
     "name": "#%%\n"
    }
   },
   "outputs": [
    {
     "name": "stdout",
     "output_type": "stream",
     "text": [
      "True\n",
      "True\n",
      "True\n",
      "True\n",
      "True\n",
      "True\n",
      "True\n",
      "True\n",
      "{{'ala': 1, 'jacek': 0}, {'ala': 2}, {'ala': 4}}\n"
     ]
    }
   ],
   "source": [
    "class FrozenDictionary():\n",
    "    \"\"\"\n",
    "    Odpowiednik frozenset dla zbiorów, czyli słownik, który nie jest modyfikowalny,\n",
    "    a dzięki temu może być np. elementem zbiorów, albo kluczem w innym słowniku.\n",
    "    \"\"\"\n",
    "    \n",
    "    def __init__(self, dictionary):\n",
    "        \"\"\"Tworzy nowy zamrożony słownik z podanego słownika\"\"\"\n",
    "        self._d = dictionary\n",
    "        self._hash = None\n",
    "    \n",
    "    def __hash__(self):\n",
    "        \"\"\"Zwraca hasz słownika (int)\"\"\"\n",
    "        return hash(tuple(sorted(self._d.items())))\n",
    "    \n",
    "    def __eq__(self, d):\n",
    "        \"\"\"Porównuje nasz słownik z zamrożonym słownikiem d\"\"\"\n",
    "        return self._d == d\n",
    "    \n",
    "    def __repr__(self):\n",
    "        \"\"\"Zwraca reprezentację naszego słownika jako string\"\"\"\n",
    "        return self._d.__repr__()\n",
    "        \n",
    "dicts = [FrozenDictionary({'ala': 4}), \n",
    "         FrozenDictionary({'ala': 1, 'jacek': 0}),\n",
    "         FrozenDictionary({'ala': 4}), \n",
    "         FrozenDictionary({'ala': 2}), \n",
    "         FrozenDictionary({'jacek': 0, 'ala': 1})]\n",
    "\n",
    "s = set(dicts)\n",
    "print(dicts[0] == dicts[2])\n",
    "print(dicts[0] != dicts[3])\n",
    "print(len(s) == 3)\n",
    "for d in dicts:\n",
    "    print(d in s)\n",
    "\n",
    "# Powinno wyświetlić coś w stylu set([{'ala': 4}, {'ala': 1, 'jacek': 0}, {'ala': 2}])\n",
    "print(s)"
   ]
  },
  {
   "cell_type": "markdown",
   "metadata": {
    "pycharm": {
     "name": "#%% md\n"
    }
   },
   "source": [
    "### Zadanie 6 - Bag of Words\n",
    "Napisz klasę \"Bag of words\", która będzie \"workiem słów\" z zadanego dokumentu. Oznacza to, że ma w sobie przechowywać informacje o tym ile razy każde słowo wystąpiło w dokumencie. Dodatkowo ma udostępniać następującą funkcjonalność:\n",
    "* Można utworzyć go na dwa sposoby:\n",
    "```\n",
    "bow = BagOfWords(\"ala ma kota ala ma ala\")\n",
    "bow = BagOfWords(open(\"plik.txt\"))\n",
    "```\n",
    "* Możliwość wyświetlania go po prostu pisząc print(bow) (kolejność taka sama jak przy przeglądaniu forem)\n",
    "```\n",
    "ala:3, ma:2, kota:1\n",
    "```\n",
    "* Sprawdzanie czy jakieś słowo należy do naszego worka pisząc\n",
    "```\n",
    "if 'ala' in bow:\n",
    "    ...\n",
    "```\n",
    "* Przeglądanie słów w worku od najczęściej do najrzadziej występującego, czyli\n",
    "```\n",
    "for word in bow:\n",
    "  print(word)\n",
    "```\n",
    "    powinniśmy zobaczyć\n",
    "```\n",
    "ala\n",
    "ma\n",
    "kota\n",
    "```\n",
    "* Możliwość dodawania dwóch worków, pisząc\n",
    "```\n",
    "bow1 = BagOfWords(\"ala ma kota ala ma ala\")\n",
    "bow2 = BagOfWords(\"tomek tez ma kota\")\n",
    "bow3 = bow1 + bow2\n",
    "print('tomek' in bow1) # False\n",
    "print('tomek' in bow3) # True\n",
    "print('ala' in bow3) # True\n",
    "print(bow3) # ala:3, ma:3, kota:2, tez:1, tomek:1\n",
    "    ```\n",
    "* Odczytywanie częstości wystąpień słów poprzez nawiasy kwadratowe\n",
    "```\n",
    "print(bow1[\"ala\"]) # 3\n",
    "print(bow3[\"ala\"]) # 3\n",
    "```\n",
    "* Aktualizację cześtości wystąpień\n",
    "```\n",
    "bow3['tomek'] = 10\n",
    "for el in bow3:\n",
    "    print el\n",
    "```\n",
    "    powinno wyświetlić najpierw `tomek`"
   ]
  },
  {
   "cell_type": "code",
   "execution_count": 7,
   "metadata": {
    "collapsed": true,
    "pycharm": {
     "name": "#%%\n"
    }
   },
   "outputs": [
    {
     "name": "stdout",
     "output_type": "stream",
     "text": [
      "ala : 2, ma : 2, kota : 1, ole : 1, \n",
      "ala : 2, ma : 2, kota : 1, ele : 1, \n",
      "2\n",
      "ala\n",
      "ma\n",
      "kota\n",
      "ole\n",
      "True\n"
     ]
    }
   ],
   "source": [
    "from collections import defaultdict\n",
    "\n",
    "class BagOfWords():\n",
    "    def __init__(self,arg):\n",
    "        if type(arg).__name__ == 'TextIOWrapper':\n",
    "            text = arg.read().strip()\n",
    "        else:\n",
    "            text = arg\n",
    "        text = text.replace(\",\",\"\")\n",
    "        text = text.replace('.','')\n",
    "        text = text.replace(';','')\n",
    "        text = text.replace('\\n','')\n",
    "        text = text.replace('-','')\n",
    "        allwords = text.split(' ')\n",
    "        self.dict = defaultdict(int)\n",
    "        for w in allwords:\n",
    "            self.dict[w] +=1\n",
    "\n",
    "    def __repr__(self):\n",
    "        res = ''\n",
    "        for key, value in self.dict.items():\n",
    "            res += f'{key} : {value}, '\n",
    "        return res\n",
    "    def __contains__(self, item):\n",
    "        return item in self.dict\n",
    "    def __getitem__(self, item):\n",
    "        return self.dict[item]\n",
    "\n",
    "    def __iter__(self):\n",
    "        sorted_dict = dict(sorted(self.dict.items(),key = lambda item: item[1], reverse=True))\n",
    "        self.sorted_dict_vals = list(sorted_dict)\n",
    "        return iter(self.sorted_dict_vals)\n",
    "\n",
    "b = BagOfWords(\"ala ma kota ala ma ole\")\n",
    "print(b)\n",
    "print(BagOfWords(open('plik.txt')))\n",
    "print(b['ala'])\n",
    "for i in b:\n",
    "    print(i)\n",
    "print('ala' in b)"
   ]
  }
 ],
 "metadata": {
  "kernelspec": {
   "display_name": "Python 3",
   "language": "python",
   "name": "python3"
  },
  "language_info": {
   "codemirror_mode": {
    "name": "ipython",
    "version": 3
   },
   "file_extension": ".py",
   "mimetype": "text/x-python",
   "name": "python",
   "nbconvert_exporter": "python",
   "pygments_lexer": "ipython3",
   "version": "3.7.9"
  }
 },
 "nbformat": 4,
 "nbformat_minor": 2
}