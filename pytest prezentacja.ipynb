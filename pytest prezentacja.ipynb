{
 "cells": [
  {
   "cell_type": "markdown",
   "source": [
    "Pytest to popularna pythonowa biblioteka do testowania oprogramowania. Inne popularne biblioteki tego typu to\n",
    "Unittest\n",
    "DocTest\n",
    "Nose2\n",
    "Pytest można stosować do testów jednostkowych, ale nadaje się też do tworzenia bardziej rozbudowanych testów (integracyjnych, end-to-end) dla całych aplikacji i bibliotek\n",
    "\n",
    "Głównymi zaletami biblitoeki pytest jest prosty syntax, wygodne narzędzia do selekcji wielu testów i monitorowania ich wyników."
   ],
   "metadata": {
    "collapsed": false
   }
  },
  {
   "cell_type": "markdown",
   "source": [
    "1. prosty test. Spodziewamy sie bledu funkcji testsquare i testequality"
   ],
   "metadata": {
    "collapsed": false
   }
  },
  {
   "cell_type": "code",
   "execution_count": null,
   "outputs": [],
   "source": [
    "# test_square.py\n",
    "# testy w pytescie zaczynaja sie domyslnie od test*\n",
    "import math\n",
    "\n",
    "def test_sqrt():\n",
    "   num = 25\n",
    "   assert math.sqrt(num) == 5\n",
    "\n",
    "def test_square():\n",
    "   assert 7*7 == 40\n",
    "\n",
    "def test_equality():\n",
    "   assert 10 == 11"
   ],
   "metadata": {
    "collapsed": false
   }
  },
  {
   "cell_type": "markdown",
   "source": [
    "Sposoby na uruchomienie testu:\n",
    "1. pytest test_square.py uruchomi testy w pliku test_square.py\n",
    "2. pytest (bez dodatkowych argumentow) przeszuka cwd i wszystkie podkatalogi i uruchomi wszystkie testy jakie znajdzie\n",
    "3. pytest test_square.py::test_equality uruchomi tylko test_equality w pliku test_square.py\n",
    "4. pytest test_task.py test_task2.py uruchomi tylko testy z plików test_task.py test_task2.py\n",
    "\n",
    "Dodatkowe parametry uruchomieniowe (przykłady)\n",
    "1. -x, –exitfirst przestaje pracować po pierwszym niepowodzeniu\n",
    "2. –maxfail=num\n",
    "3. –lf, –last-failed uruchom tylko te testy, które nie przeszły ostatnim razem\n",
    "4. -v, –verbose\n",
    "5. -q, –quiet\n",
    "6. -h, –help"
   ],
   "metadata": {
    "collapsed": false
   }
  },
  {
   "cell_type": "markdown",
   "source": [
    "Wykorzystanie struktury namedtuple jako Task"
   ],
   "metadata": {
    "collapsed": false
   }
  },
  {
   "cell_type": "code",
   "execution_count": null,
   "outputs": [],
   "source": [
    "# test_task2.py\n",
    "from collections import namedtuple\n",
    "Task = namedtuple('Task', ['summary', 'owner', 'done', 'id'])\n",
    "def test_defaults():\n",
    " \"\"\"Using no parameters should invoke defaults.\"\"\"\n",
    " t1 = Task()   # instancja klasy Task\n",
    " t2 = Task(None, None, False, None)\n",
    " assert t1 == t2\n",
    "def test_member_access():\n",
    " \"\"\"Check .field functionality of namedtuple.\"\"\"\n",
    " t = Task('buy milk', 'brian')\n",
    " assert t.summary == 'buy milk'\n",
    " assert t.owner == 'brian'\n",
    " assert (t.done, t.id) == (False, None)\n"
   ],
   "metadata": {
    "collapsed": false
   }
  },
  {
   "cell_type": "markdown",
   "source": [
    "Parametryzacja funkcji testowych"
   ],
   "metadata": {
    "collapsed": false
   }
  },
  {
   "cell_type": "code",
   "execution_count": null,
   "outputs": [],
   "source": [
    "# test_parametrize.py\n",
    "# source: https://docs.pytest.org/en/6.2.x/parametrize.html\n",
    "import pytest\n",
    "\n",
    "\n",
    "@pytest.mark.parametrize(\"test_input,expected\", [(\"3+5\", 8), (\"2+4\", 6), (\"6*9\", 42)])\n",
    "def test_eval(test_input, expected):\n",
    "    assert eval(test_input) == expected"
   ],
   "metadata": {
    "collapsed": false
   }
  },
  {
   "cell_type": "markdown",
   "source": [
    "pytest Fixtures - to specjalne funkcje uruchamiane w pytescie przed albo czasem po uruchamaniu samych funkcji testujących. Można używać ich do zdobywania danych, ustawiania systemu w jakiś konkretny stan- przygotowywanie przed/ czyszczenie po, zdobywania danych do konkretnego scenariusza testowego itd."
   ],
   "metadata": {
    "collapsed": false
   }
  },
  {
   "cell_type": "code",
   "execution_count": null,
   "outputs": [],
   "source": [
    "# prosty przykład\n",
    "# source: http://library.sadjad.ac.ir/opac/temp/18467.pdf\n",
    " import pytest\n",
    "\n",
    " @pytest.fixture()\n",
    " def some_data():\n",
    "     \"\"\"Return answer to ultimate question.\"\"\"\n",
    "     return 42\n",
    "\n",
    " # dzieki dekoratorowi pytest wie ze powyzsza funkcja ma sluzyc jako argument funkcji testowej\n",
    " def test_some_data(some_data):\n",
    "     \"\"\"Use fixture return value in a test.\"\"\"\n",
    "     assert some_data == 42\n"
   ],
   "metadata": {
    "collapsed": false
   }
  },
  {
   "cell_type": "code",
   "execution_count": null,
   "outputs": [],
   "source": [
    "# fixture jako sposob na przechowanie danych testowych\n",
    "@pytest.fixture()\n",
    "def a_tuple():\n",
    " \"\"\"Return something more interesting.\"\"\"\n",
    " return (1, 'foo', None, {'bar': 23})\n",
    "\n",
    "def test_a_tuple(a_tuple):\n",
    " \"\"\"Demo the a_tuple fixture.\"\"\"\n",
    " assert a_tuple[3]['bar'] == 32\n"
   ],
   "metadata": {
    "collapsed": false
   }
  },
  {
   "cell_type": "code",
   "execution_count": null,
   "outputs": [],
   "source": [
    "import pytest\n",
    "# parametryzacja fixture\n",
    "# test_fixtures.py\n",
    "@pytest.fixture\n",
    "def tester(tester_arg):\n",
    "    \"\"\"Create tester object\"\"\"\n",
    "    return f\"podany argument {tester_arg}\"\n",
    "\n",
    "@pytest.mark.parametrize('tester_arg',['TakiPodajeArgument'])\n",
    "def test_fixture_params(tester):\n",
    "    print(tester)\n",
    "    assert tester == 'podany argument TakiPodajeArgument'\n"
   ],
   "metadata": {
    "collapsed": false
   }
  },
  {
   "cell_type": "markdown",
   "source": [
    "Mockowanie- symulowanie odpowiedzi jakiejś funkcjonalności w kodzie tak, aby działała zgodnie z naszymi oczekiwaniami.\n",
    "Możemy stosować mockowanie w sytuacji, kiedy do przetestowania jakiejś funkcjonalności, potrzebujemy innej funkcjonalności, która nie jest zaimplementowana, albo - np. baza danych - chcemy testować w oderwaniu od rzeczywistych danych (mockowanie przykładowego rekordu i sprawdzanie, czy odpowiednia funkcja go zwróci)"
   ],
   "metadata": {
    "collapsed": false
   }
  },
  {
   "cell_type": "code",
   "execution_count": 17,
   "outputs": [
    {
     "name": "stdout",
     "output_type": "stream",
     "text": [
      "['__class__', '__delattr__', '__dict__', '__dir__', '__doc__', '__eq__', '__format__', '__ge__', '__getattribute__', '__gt__', '__hash__', '__init__', '__init_subclass__', '__le__', '__lt__', '__module__', '__ne__', '__new__', '__reduce__', '__reduce_ex__', '__repr__', '__setattr__', '__sizeof__', '__str__', '__subclasshook__', '__weakref__', 'a', 'assert_any_call', 'assert_called', 'assert_called_once', 'assert_called_once_with', 'assert_called_with', 'assert_has_calls', 'assert_not_called', 'attach_mock', 'b', 'call_args', 'call_args_list', 'call_count', 'called', 'configure_mock', 'foo', 'get_max', 'method_calls', 'mock_add_spec', 'mock_calls', 'reset_mock', 'return_value', 'side_effect']\n",
      "['__class__', '__delattr__', '__dict__', '__dir__', '__doc__', '__eq__', '__format__', '__ge__', '__getattribute__', '__gt__', '__hash__', '__init__', '__init_subclass__', '__le__', '__lt__', '__module__', '__ne__', '__new__', '__reduce__', '__reduce_ex__', '__repr__', '__setattr__', '__sizeof__', '__str__', '__subclasshook__', '__weakref__', 'a', 'b', 'foo', 'get_max']\n"
     ]
    }
   ],
   "source": [
    "class MyClass:\n",
    "    def __init__(self,a,b):\n",
    "        self.a = a\n",
    "        self.b = b\n",
    "    def get_max(self):\n",
    "        raise NotImplementedError\n",
    "    @staticmethod\n",
    "    def foo(arg):\n",
    "        print(arg)\n",
    "\n",
    "import mock\n",
    "m1 = mock.Mock(spec=MyClass)    # utworzenie obiektu Mock ktory bedzie mial takie same metody jak MyClass\n",
    "m1.a = 1\n",
    "m1.b = 2\n",
    "print(dir(m1))\n",
    "notMock = MyClass(9,8)\n",
    "print(dir(notMock))"
   ],
   "metadata": {
    "collapsed": false
   }
  },
  {
   "cell_type": "code",
   "execution_count": 13,
   "outputs": [
    {
     "data": {
      "text/plain": "2"
     },
     "execution_count": 13,
     "metadata": {},
     "output_type": "execute_result"
    }
   ],
   "source": [
    "m1.get_max.return_value=max(m1.a,m1.b)\n",
    "m1.get_max()"
   ],
   "metadata": {
    "collapsed": false
   }
  },
  {
   "cell_type": "code",
   "execution_count": 18,
   "outputs": [
    {
     "data": {
      "text/plain": "4"
     },
     "execution_count": 18,
     "metadata": {},
     "output_type": "execute_result"
    }
   ],
   "source": [
    "m1.foo.side_effect = lambda : 2*2\n",
    "m1.foo()"
   ],
   "metadata": {
    "collapsed": false
   }
  },
  {
   "cell_type": "code",
   "execution_count": 14,
   "outputs": [],
   "source": [
    "m1.get_max.assert_called()"
   ],
   "metadata": {
    "collapsed": false
   }
  },
  {
   "cell_type": "code",
   "execution_count": 15,
   "outputs": [],
   "source": [
    "m1.foo(2)\n",
    "m1.foo.assert_called_with(2)"
   ],
   "metadata": {
    "collapsed": false
   }
  },
  {
   "cell_type": "code",
   "execution_count": 16,
   "outputs": [
    {
     "ename": "AssertionError",
     "evalue": "expected call not found.\nExpected: foo(3)\nActual: foo(2)",
     "output_type": "error",
     "traceback": [
      "\u001B[0;31m---------------------------------------------------------------------------\u001B[0m",
      "\u001B[0;31mAssertionError\u001B[0m                            Traceback (most recent call last)",
      "Cell \u001B[0;32mIn [16], line 2\u001B[0m\n\u001B[1;32m      1\u001B[0m m1\u001B[38;5;241m.\u001B[39mfoo(\u001B[38;5;241m2\u001B[39m)\n\u001B[0;32m----> 2\u001B[0m \u001B[43mm1\u001B[49m\u001B[38;5;241;43m.\u001B[39;49m\u001B[43mfoo\u001B[49m\u001B[38;5;241;43m.\u001B[39;49m\u001B[43massert_called_with\u001B[49m\u001B[43m(\u001B[49m\u001B[38;5;241;43m3\u001B[39;49m\u001B[43m)\u001B[49m\n",
      "File \u001B[0;32m~/anaconda3/envs/fewshot/lib/python3.9/site-packages/mock/mock.py:945\u001B[0m, in \u001B[0;36mNonCallableMock.assert_called_with\u001B[0;34m(_mock_self, *args, **kwargs)\u001B[0m\n\u001B[1;32m    943\u001B[0m \u001B[38;5;28;01mif\u001B[39;00m actual \u001B[38;5;241m!=\u001B[39m expected:\n\u001B[1;32m    944\u001B[0m     cause \u001B[38;5;241m=\u001B[39m expected \u001B[38;5;28;01mif\u001B[39;00m \u001B[38;5;28misinstance\u001B[39m(expected, \u001B[38;5;167;01mException\u001B[39;00m) \u001B[38;5;28;01melse\u001B[39;00m \u001B[38;5;28;01mNone\u001B[39;00m\n\u001B[0;32m--> 945\u001B[0m     \u001B[38;5;28;01mraise\u001B[39;00m \u001B[38;5;167;01mAssertionError\u001B[39;00m(_error_message()) \u001B[38;5;28;01mfrom\u001B[39;00m \u001B[38;5;21;01mcause\u001B[39;00m\n",
      "\u001B[0;31mAssertionError\u001B[0m: expected call not found.\nExpected: foo(3)\nActual: foo(2)"
     ]
    }
   ],
   "source": [
    "m1.foo(2)\n",
    "m1.foo.assert_called_with(3)"
   ],
   "metadata": {
    "collapsed": false
   }
  }
 ],
 "metadata": {
  "kernelspec": {
   "display_name": "Python 3",
   "language": "python",
   "name": "python3"
  },
  "language_info": {
   "codemirror_mode": {
    "name": "ipython",
    "version": 2
   },
   "file_extension": ".py",
   "mimetype": "text/x-python",
   "name": "python",
   "nbconvert_exporter": "python",
   "pygments_lexer": "ipython2",
   "version": "2.7.6"
  }
 },
 "nbformat": 4,
 "nbformat_minor": 0
}
