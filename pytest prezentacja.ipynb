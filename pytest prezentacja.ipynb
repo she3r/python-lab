{
 "cells": [
  {
   "cell_type": "markdown",
   "source": [
    "Pytest to popularna pythonowa biblioteka do testowania oprogramowania. Inne popularne biblioteki tego typu to\n",
    "Unittest\n",
    "DocTest\n",
    "Nose2\n",
    "Pytest można stosować do testów jednostkowych, ale nadaje się też do tworzenia bardziej rozbudowanych testów (integracyjnych, end-to-end) dla całych aplikacji i bibliotek\n",
    "\n",
    "Głównymi zaletami biblitoeki pytest jest prosty syntax, wygodne narzędzia do selekcji wielu testów i monitorowania ich wyników."
   ],
   "metadata": {
    "collapsed": false
   }
  },
  {
   "cell_type": "markdown",
   "source": [
    "1. prosty test. Spodziewamy sie bledu funkcji testsquare i testequality"
   ],
   "metadata": {
    "collapsed": false
   }
  },
  {
   "cell_type": "code",
   "execution_count": null,
   "outputs": [],
   "source": [
    "# test_square.py\n",
    "# testy w pytescie zaczynaja sie domyslnie od test*\n",
    "import math\n",
    "\n",
    "def test_sqrt():\n",
    "   num = 25\n",
    "   assert math.sqrt(num) == 5\n",
    "\n",
    "def test_square():\n",
    "   assert 7*7 == 40\n",
    "\n",
    "def test_equality():\n",
    "   assert 10 == 11"
   ],
   "metadata": {
    "collapsed": false
   }
  },
  {
   "cell_type": "markdown",
   "source": [
    "Sposoby na uruchomienie testu:\n",
    "1. pytest test_square.py uruchomi testy w pliku test_square.py\n",
    "2. pytest (bez dodatkowych argumentow) przeszuka cwd i wszystkie podkatalogi i uruchomi wszystkie testy jakie znajdzie\n"
   ],
   "metadata": {
    "collapsed": false
   }
  },
  {
   "cell_type": "code",
   "execution_count": null,
   "outputs": [],
   "source": [],
   "metadata": {
    "collapsed": false
   }
  }
 ],
 "metadata": {
  "kernelspec": {
   "display_name": "Python 3",
   "language": "python",
   "name": "python3"
  },
  "language_info": {
   "codemirror_mode": {
    "name": "ipython",
    "version": 2
   },
   "file_extension": ".py",
   "mimetype": "text/x-python",
   "name": "python",
   "nbconvert_exporter": "python",
   "pygments_lexer": "ipython2",
   "version": "2.7.6"
  }
 },
 "nbformat": 4,
 "nbformat_minor": 0
}
