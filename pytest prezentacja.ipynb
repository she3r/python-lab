{
 "cells": [
  {
   "cell_type": "markdown",
   "source": [
    "Pytest to popularna pythonowa biblioteka do testowania oprogramowania. Inne popularne biblioteki tego typu to\n",
    "Unittest\n",
    "DocTest\n",
    "Nose2\n",
    "Pytest można stosować do testów jednostkowych, ale nadaje się też do tworzenia bardziej rozbudowanych testów (integracyjnych, end-to-end) dla całych aplikacji i bibliotek\n",
    "\n",
    "Głównymi zaletami biblitoeki pytest jest prosty syntax, wygodne narzędzia do selekcji wielu testów i monitorowania ich wyników."
   ],
   "metadata": {
    "collapsed": false
   }
  },
  {
   "cell_type": "markdown",
   "source": [
    "1. prosty test"
   ],
   "metadata": {
    "collapsed": false
   }
  },
  {
   "cell_type": "code",
   "execution_count": null,
   "outputs": [],
   "source": [
    "# test_square.py\n",
    "import math\n",
    "\n",
    "def test_sqrt():\n",
    "   num = 25\n",
    "   assert math.sqrt(num) == 5\n",
    "\n",
    "def testsquare():\n",
    "   num = 7\n",
    "   assert 7*7 == 40\n",
    "\n",
    "def tesequality():\n",
    "   assert 10 == 11"
   ],
   "metadata": {
    "collapsed": false
   }
  },
  {
   "cell_type": "markdown",
   "source": [
    "uruchamiamy komendą pytest w folderze z plikiem testowym test_square.py. Ukazuje się następujący output\n",
    "\n",
    "test_square.py .F\n",
    "============================================== FAILURES\n",
    "==============================================\n",
    "______________________________________________ testsquare\n",
    "_____________________________________________\n",
    "   def testsquare():\n",
    "   num=7\n",
    ">  assert 7*7 == 40\n",
    "E  assert (7 * 7) == 40\n",
    "test_square.py:9: AssertionError\n",
    "================================= 1 failed, 1 passed in 0.06 seconds\n",
    "=================================\n",
    "\n",
    "Mamy błąd: "
   ],
   "metadata": {
    "collapsed": false
   }
  },
  {
   "cell_type": "code",
   "execution_count": null,
   "outputs": [],
   "source": [],
   "metadata": {
    "collapsed": false
   }
  }
 ],
 "metadata": {
  "kernelspec": {
   "display_name": "Python 3",
   "language": "python",
   "name": "python3"
  },
  "language_info": {
   "codemirror_mode": {
    "name": "ipython",
    "version": 2
   },
   "file_extension": ".py",
   "mimetype": "text/x-python",
   "name": "python",
   "nbconvert_exporter": "python",
   "pygments_lexer": "ipython2",
   "version": "2.7.6"
  }
 },
 "nbformat": 4,
 "nbformat_minor": 0
}
