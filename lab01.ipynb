{
 "cells": [
  {
   "cell_type": "markdown",
   "metadata": {
    "pycharm": {
     "name": "#%% md\n"
    }
   },
   "source": [
    "## Lab 01"
   ]
  },
  {
   "cell_type": "markdown",
   "metadata": {
    "pycharm": {
     "name": "#%% md\n"
    }
   },
   "source": [
    "### Rozgrzewka (zalecana dla początkujących)"
   ]
  },
  {
   "cell_type": "markdown",
   "metadata": {
    "pycharm": {
     "name": "#%% md\n"
    }
   },
   "source": [
    "a) Korzystając z ```virtualenv``` przygotuj wirtualne środowisko uruchomieniowe ([Wirtualne środowisko uruchomieniowe Pythona](http://blog.fizyk.net.pl/pl/blog/wirtualne-srodowisko-uruchomieniowe-pythona.html))."
   ]
  },
  {
   "cell_type": "markdown",
   "metadata": {
    "pycharm": {
     "name": "#%% md\n"
    }
   },
   "source": [
    "b) Korzystając z ```pip``` zainstaluj pakiet ```roman``` i przetestuj go."
   ]
  },
  {
   "cell_type": "markdown",
   "metadata": {
    "pycharm": {
     "name": "#%% md\n"
    }
   },
   "source": [
    "Jeśli są z tym problemy wykorzystaj [tooooo](https://www.google.pl/search?q=python+online+interpreter&oq=python+online+&aqs=chrome.2.69i57j0l5.4406j0j7&sourceid=chrome&ie=UTF-80)"
   ]
  },
  {
   "cell_type": "markdown",
   "metadata": {
    "collapsed": true,
    "pycharm": {
     "name": "#%% md\n"
    }
   },
   "source": [
    "### Zadanie 1"
   ]
  },
  {
   "cell_type": "markdown",
   "metadata": {
    "pycharm": {
     "name": "#%% md\n"
    }
   },
   "source": [
    "Zaimplementuj poniższe funkcje, tak żeby dołączone testy przechodziły. Polecenia znajdują się w docstringach pod deklaracją funkcji."
   ]
  },
  {
   "cell_type": "code",
   "execution_count": 39,
   "metadata": {
    "pycharm": {
     "name": "#%%\n"
    }
   },
   "outputs": [
    {
     "name": "stdout",
     "output_type": "stream",
     "text": [
      "True\n",
      "True\n",
      "True\n"
     ]
    }
   ],
   "source": [
    "import numpy as np\n",
    "def avg(input):\n",
    "    \"\"\"Funkcja powinna zwrócić średnią arytmetyczną elementów na liście 'input'\"\"\"\n",
    "    return np.mean(np.array(input))\n",
    "\n",
    "print(avg([2,2,2,2,2,2]) - 2 < 0.0000001)\n",
    "print(avg([4, 6, 55, 18, 17, 12]) - 18.666666666666668 < 0.0000001)\n",
    "print(avg([86, 89, 24, 45, 62, 17, 61, 63, 30, 13]) - 49 < 0.0000001)"
   ]
  },
  {
   "cell_type": "code",
   "execution_count": 40,
   "metadata": {
    "pycharm": {
     "name": "#%%\n"
    }
   },
   "outputs": [
    {
     "name": "stdout",
     "output_type": "stream",
     "text": [
      "[]\n",
      "True\n",
      "[2]\n",
      "True\n",
      "[]\n",
      "True\n",
      "[2, 4, 6]\n",
      "True\n"
     ]
    }
   ],
   "source": [
    "def even_list(n):\n",
    "    \"\"\"Funkcja powinna zwrocic liste liczb parzystych <= n\"\"\"\n",
    "    out = []\n",
    "    for i in range(1,n+1):\n",
    "        if i % 2 == 0:\n",
    "            out.append(i)\n",
    "    print(out)\n",
    "    return out\n",
    "\n",
    "print(even_list(1) == [])\n",
    "print(even_list(2) == [2])\n",
    "print(even_list(-5) == [])\n",
    "print(even_list(7) == [2,4,6])"
   ]
  },
  {
   "cell_type": "code",
   "execution_count": 41,
   "metadata": {
    "collapsed": true,
    "pycharm": {
     "name": "#%%\n"
    }
   },
   "outputs": [
    {
     "name": "stdout",
     "output_type": "stream",
     "text": [
      "True\n",
      "True\n",
      "True\n"
     ]
    }
   ],
   "source": [
    "def sum_of_squares(n): \n",
    "    \"\"\" Funkcja powinna zwrócić sumę kwadratów liczb od 1 do n włącznie \"\"\"\n",
    "    return np.sum(np.array([i**2 for i in range(1,n+1) ]))\n",
    "\n",
    "print(sum_of_squares(1) == 1)\n",
    "print(sum_of_squares(3) == 14)\n",
    "print(sum_of_squares(10) == 385)"
   ]
  },
  {
   "cell_type": "code",
   "execution_count": 42,
   "metadata": {
    "collapsed": true,
    "pycharm": {
     "name": "#%%\n"
    }
   },
   "outputs": [
    {
     "name": "stdout",
     "output_type": "stream",
     "text": [
      "True\n",
      "True\n",
      "True\n"
     ]
    }
   ],
   "source": [
    "def sum_of_multiples(k, n=101):\n",
    "    \"\"\" Funckja powinna zwrócić sume wszystkich dodatnich wieloktrotności parametru k mniejszych niż n \"\"\"\n",
    "    # out = []\n",
    "    # for i in range(n):\n",
    "    #     if i % k == 0:\n",
    "    #         out.append(i)\n",
    "    # return np.sum(out)\n",
    "    return sum(filter(lambda x: x % k == 0,[i for i in range(n)]))\n",
    "\n",
    "\n",
    "print(sum_of_multiples(5) == 1050)\n",
    "print(sum_of_multiples(17) == 255)\n",
    "print(sum_of_multiples(69) == 69)"
   ]
  },
  {
   "cell_type": "code",
   "execution_count": 43,
   "metadata": {
    "collapsed": true,
    "pycharm": {
     "name": "#%%\n"
    }
   },
   "outputs": [
    {
     "name": "stdout",
     "output_type": "stream",
     "text": [
      "True\n",
      "True\n",
      "True\n"
     ]
    }
   ],
   "source": [
    "def isprime(n):\n",
    "    for i in range(2,n):\n",
    "        if n % i == 0:\n",
    "            return False\n",
    "    return True\n",
    "\n",
    "def primes_less_than(n):\n",
    "    \"\"\" Funkcja powinna zwrócić liste liczb pierwszych mniejszych od n \"\"\"\n",
    "    # out = []\n",
    "    # for i in range(2,n):\n",
    "    #     if isprime(i):\n",
    "    #         out.append(i)\n",
    "    # print(out)\n",
    "    # return out\n",
    "    return list(filter(lambda x: isprime(x),[i for i in range(2,n)]))\n",
    "\n",
    "print(primes_less_than(5) == [2,3])\n",
    "print(primes_less_than(10) == [2,3,5,7])\n",
    "print(primes_less_than(20) == [2, 3, 5, 7, 11, 13, 17, 19])"
   ]
  },
  {
   "cell_type": "code",
   "execution_count": 44,
   "metadata": {
    "collapsed": true,
    "pycharm": {
     "name": "#%%\n"
    }
   },
   "outputs": [
    {
     "name": "stdout",
     "output_type": "stream",
     "text": [
      "True\n",
      "True\n",
      "True\n",
      "True\n"
     ]
    }
   ],
   "source": [
    "def is_palindrome(word):\n",
    "    \"\"\" Funkcja sprawdza czy *word* jest palindromem \"\"\"\n",
    "    return word == word[::-1]\n",
    "\n",
    "print(is_palindrome('ala') == True)\n",
    "print(is_palindrome('ananas') == False)\n",
    "print(is_palindrome('ananasa') == False)\n",
    "print(is_palindrome('tomek') == False)"
   ]
  },
  {
   "cell_type": "code",
   "execution_count": 45,
   "metadata": {
    "collapsed": true,
    "pycharm": {
     "name": "#%%\n"
    }
   },
   "outputs": [
    {
     "name": "stdout",
     "output_type": "stream",
     "text": [
      "True\n",
      "True\n",
      "True\n",
      "True\n"
     ]
    }
   ],
   "source": [
    "def how_many_different_letters(word):\n",
    "    \"\"\" Zwraca liczbę unikalnych znaków w słowie. Możemy założyć, że słowo składa się z małych liter alfabetu angielskiego \"\"\"\n",
    "    return len(set(word))\n",
    "\n",
    "print(how_many_different_letters('tomek') == 5)\n",
    "print(how_many_different_letters('ala') == 2)\n",
    "print(how_many_different_letters('ananas') == 3)\n",
    "print(how_many_different_letters('jola') == 4)"
   ]
  },
  {
   "cell_type": "code",
   "execution_count": 46,
   "metadata": {
    "collapsed": true,
    "pycharm": {
     "name": "#%%\n"
    }
   },
   "outputs": [
    {
     "name": "stderr",
     "output_type": "stream",
     "text": [
      "C:\\Users\\sch03\\AppData\\Local\\Temp\\ipykernel_11256\\332596042.py:1: DeprecationWarning: Importing display from IPython.core.display is deprecated since IPython 7.14, please import from IPython display\n",
      "  from IPython.core.display import display, HTML\n"
     ]
    },
    {
     "data": {
      "text/plain": "<IPython.core.display.HTML object>",
      "text/html": "<table style=\"table-layout: fixed; height: 90px; width: 90px;\">\n<tr>\n\t<td>X</td>\n\t<td></td>\n\t<td>O</td>\n</tr>\n<tr>\n\t<td></td>\n\t<td>X</td>\n\t<td></td>\n</tr>\n<tr>\n\t<td>O</td>\n\t<td></td>\n\t<td>O</td>\n</tr>\n\n</table>"
     },
     "metadata": {},
     "output_type": "display_data"
    }
   ],
   "source": [
    "from IPython.core.display import display, HTML\n",
    "def list_to_table(word):\n",
    "    \"\"\" Funkcja przyjmuje 9-elementową liste i na jej podstawie tworzy stringa z HTMLową tabelą rozmiaru 3x3\n",
    "    reprezentującą plansze do gry w kółko i krzyżyk\"\"\"\n",
    "    board = '<table style=\"table-layout: fixed; height: 90px; width: 90px;\">\\n'\n",
    "    \n",
    "    # twoj kod \n",
    "    for i in range(3):\n",
    "        board += \"<tr>\\n\"\n",
    "        for j in range(3):\n",
    "            board += f\"\\t<td>{word[3*i+j]}</td>\\n\"\n",
    "        board += \"</tr>\\n\"\n",
    "    board += \"\\n</table>\"\n",
    "    return board\n",
    "\n",
    "# print(list_to_table(['X', '', 'O', '', 'X', '', 'O', '', 'O']))\n",
    "display(HTML(list_to_table(['X', '', 'O', '', 'X', '', 'O', '', 'O'])))"
   ]
  },
  {
   "cell_type": "code",
   "execution_count": 13,
   "metadata": {
    "collapsed": true,
    "pycharm": {
     "name": "#%%\n"
    }
   },
   "outputs": [
    {
     "name": "stdout",
     "output_type": "stream",
     "text": [
      "[]\n",
      "True\n",
      "[(220, 284)]\n",
      "True\n"
     ]
    },
    {
     "ename": "KeyboardInterrupt",
     "evalue": "",
     "output_type": "error",
     "traceback": [
      "\u001B[1;31m---------------------------------------------------------------------------\u001B[0m",
      "\u001B[1;31mKeyboardInterrupt\u001B[0m                         Traceback (most recent call last)",
      "Input \u001B[1;32mIn [13]\u001B[0m, in \u001B[0;36m<cell line: 21>\u001B[1;34m()\u001B[0m\n\u001B[0;32m     19\u001B[0m \u001B[38;5;28mprint\u001B[39m(zaprzyjaznione(\u001B[38;5;241m1\u001B[39m) \u001B[38;5;241m==\u001B[39m [])\n\u001B[0;32m     20\u001B[0m \u001B[38;5;28mprint\u001B[39m(zaprzyjaznione(\u001B[38;5;241m300\u001B[39m) \u001B[38;5;241m==\u001B[39m [(\u001B[38;5;241m220\u001B[39m, \u001B[38;5;241m284\u001B[39m)])\n\u001B[1;32m---> 21\u001B[0m \u001B[38;5;28mprint\u001B[39m(\u001B[43mzaprzyjaznione\u001B[49m\u001B[43m(\u001B[49m\u001B[38;5;241;43m2000\u001B[39;49m\u001B[43m)\u001B[49m \u001B[38;5;241m==\u001B[39m [(\u001B[38;5;241m220\u001B[39m, \u001B[38;5;241m284\u001B[39m), (\u001B[38;5;241m1184\u001B[39m, \u001B[38;5;241m1210\u001B[39m)])\n\u001B[0;32m     22\u001B[0m \u001B[38;5;28mprint\u001B[39m(zaprzyjaznione(\u001B[38;5;241m13000\u001B[39m) \u001B[38;5;241m==\u001B[39m [(\u001B[38;5;241m220\u001B[39m, \u001B[38;5;241m284\u001B[39m), (\u001B[38;5;241m1184\u001B[39m, \u001B[38;5;241m1210\u001B[39m),(\u001B[38;5;241m2620\u001B[39m, \u001B[38;5;241m2924\u001B[39m), (\u001B[38;5;241m5020\u001B[39m, \u001B[38;5;241m5564\u001B[39m), (\u001B[38;5;241m6232\u001B[39m, \u001B[38;5;241m6368\u001B[39m), (\u001B[38;5;241m10744\u001B[39m, \u001B[38;5;241m10856\u001B[39m), (\u001B[38;5;241m12285\u001B[39m, \u001B[38;5;241m14595\u001B[39m)])\n",
      "Input \u001B[1;32mIn [13]\u001B[0m, in \u001B[0;36mzaprzyjaznione\u001B[1;34m(n)\u001B[0m\n\u001B[0;32m     15\u001B[0m \u001B[38;5;28;01mdef\u001B[39;00m \u001B[38;5;21mzaprzyjaznione\u001B[39m(n):\n\u001B[1;32m---> 16\u001B[0m     friends \u001B[38;5;241m=\u001B[39m [(x,y) \u001B[38;5;28;01mfor\u001B[39;00m x \u001B[38;5;129;01min\u001B[39;00m \u001B[38;5;28mrange\u001B[39m(\u001B[38;5;241m1\u001B[39m,n\u001B[38;5;241m+\u001B[39m\u001B[38;5;241m1\u001B[39m) \u001B[38;5;28;01mfor\u001B[39;00m y \u001B[38;5;129;01min\u001B[39;00m \u001B[38;5;28mrange\u001B[39m(x\u001B[38;5;241m+\u001B[39m\u001B[38;5;241m1\u001B[39m,n\u001B[38;5;241m+\u001B[39m\u001B[38;5;241m1\u001B[39m) \u001B[38;5;28;01mif\u001B[39;00m check_two(x,y)]\n\u001B[0;32m     17\u001B[0m     \u001B[38;5;28mprint\u001B[39m(friends)\n\u001B[0;32m     18\u001B[0m     \u001B[38;5;28;01mreturn\u001B[39;00m friends\n",
      "Input \u001B[1;32mIn [13]\u001B[0m, in \u001B[0;36m<listcomp>\u001B[1;34m(.0)\u001B[0m\n\u001B[0;32m     15\u001B[0m \u001B[38;5;28;01mdef\u001B[39;00m \u001B[38;5;21mzaprzyjaznione\u001B[39m(n):\n\u001B[1;32m---> 16\u001B[0m     friends \u001B[38;5;241m=\u001B[39m [(x,y) \u001B[38;5;28;01mfor\u001B[39;00m x \u001B[38;5;129;01min\u001B[39;00m \u001B[38;5;28mrange\u001B[39m(\u001B[38;5;241m1\u001B[39m,n\u001B[38;5;241m+\u001B[39m\u001B[38;5;241m1\u001B[39m) \u001B[38;5;28;01mfor\u001B[39;00m y \u001B[38;5;129;01min\u001B[39;00m \u001B[38;5;28mrange\u001B[39m(x\u001B[38;5;241m+\u001B[39m\u001B[38;5;241m1\u001B[39m,n\u001B[38;5;241m+\u001B[39m\u001B[38;5;241m1\u001B[39m) \u001B[38;5;28;01mif\u001B[39;00m \u001B[43mcheck_two\u001B[49m\u001B[43m(\u001B[49m\u001B[43mx\u001B[49m\u001B[43m,\u001B[49m\u001B[43my\u001B[49m\u001B[43m)\u001B[49m]\n\u001B[0;32m     17\u001B[0m     \u001B[38;5;28mprint\u001B[39m(friends)\n\u001B[0;32m     18\u001B[0m     \u001B[38;5;28;01mreturn\u001B[39;00m friends\n",
      "Input \u001B[1;32mIn [13]\u001B[0m, in \u001B[0;36mcheck_two\u001B[1;34m(first, second)\u001B[0m\n\u001B[0;32m      9\u001B[0m \u001B[38;5;28;01mdef\u001B[39;00m \u001B[38;5;21mcheck_two\u001B[39m(first, second):\n\u001B[1;32m---> 10\u001B[0m     \u001B[38;5;28;01mif\u001B[39;00m \u001B[38;5;28msum\u001B[39m(\u001B[43mget_dividers\u001B[49m\u001B[43m(\u001B[49m\u001B[43mfirst\u001B[49m\u001B[43m)\u001B[49m) \u001B[38;5;241m==\u001B[39m second \u001B[38;5;129;01mand\u001B[39;00m \u001B[38;5;28msum\u001B[39m(get_dividers(second)) \u001B[38;5;241m==\u001B[39m first:\n\u001B[0;32m     11\u001B[0m         \u001B[38;5;28;01mreturn\u001B[39;00m \u001B[38;5;28;01mTrue\u001B[39;00m\n\u001B[0;32m     12\u001B[0m     \u001B[38;5;28;01mreturn\u001B[39;00m \u001B[38;5;28;01mFalse\u001B[39;00m\n",
      "Input \u001B[1;32mIn [13]\u001B[0m, in \u001B[0;36mget_dividers\u001B[1;34m(num)\u001B[0m\n\u001B[0;32m      5\u001B[0m \u001B[38;5;28;01mif\u001B[39;00m num \u001B[38;5;241m==\u001B[39m \u001B[38;5;241m0\u001B[39m:\n\u001B[0;32m      6\u001B[0m     \u001B[38;5;28;01mreturn\u001B[39;00m []\n\u001B[1;32m----> 7\u001B[0m \u001B[38;5;28;01mreturn\u001B[39;00m [div \u001B[38;5;28;01mfor\u001B[39;00m div \u001B[38;5;129;01min\u001B[39;00m \u001B[38;5;28mrange\u001B[39m(\u001B[38;5;241m1\u001B[39m,num\u001B[38;5;241m/\u001B[39m\u001B[38;5;241m/\u001B[39m\u001B[38;5;241m2\u001B[39m \u001B[38;5;241m+\u001B[39m \u001B[38;5;241m1\u001B[39m) \u001B[38;5;28;01mif\u001B[39;00m num \u001B[38;5;241m%\u001B[39m div \u001B[38;5;241m==\u001B[39m \u001B[38;5;241m0\u001B[39m]\n",
      "Input \u001B[1;32mIn [13]\u001B[0m, in \u001B[0;36m<listcomp>\u001B[1;34m(.0)\u001B[0m\n\u001B[0;32m      5\u001B[0m \u001B[38;5;28;01mif\u001B[39;00m num \u001B[38;5;241m==\u001B[39m \u001B[38;5;241m0\u001B[39m:\n\u001B[0;32m      6\u001B[0m     \u001B[38;5;28;01mreturn\u001B[39;00m []\n\u001B[1;32m----> 7\u001B[0m \u001B[38;5;28;01mreturn\u001B[39;00m [div \u001B[38;5;28;01mfor\u001B[39;00m div \u001B[38;5;129;01min\u001B[39;00m \u001B[38;5;28mrange\u001B[39m(\u001B[38;5;241m1\u001B[39m,num\u001B[38;5;241m/\u001B[39m\u001B[38;5;241m/\u001B[39m\u001B[38;5;241m2\u001B[39m \u001B[38;5;241m+\u001B[39m \u001B[38;5;241m1\u001B[39m) \u001B[38;5;28;01mif\u001B[39;00m num \u001B[38;5;241m%\u001B[39m div \u001B[38;5;241m==\u001B[39m \u001B[38;5;241m0\u001B[39m]\n",
      "\u001B[1;31mKeyboardInterrupt\u001B[0m: "
     ]
    }
   ],
   "source": [
    "# Funkcję zwraca listę par liczb zaprzyjaźnionych nie większych niż n\n",
    "# (zobacz: https://pl.wikipedia.org/wiki/Liczby_zaprzyja%C5%BAnione)\n",
    "\n",
    "def get_dividers(num):\n",
    "    if num == 0:\n",
    "        return []\n",
    "    return [div for div in range(1,num//2 + 1) if num % div == 0]\n",
    "\n",
    "def check_two(first, second):\n",
    "    if sum(get_dividers(first)) == second and sum(get_dividers(second)) == first:\n",
    "        return True\n",
    "    return False\n",
    "\n",
    "\n",
    "def zaprzyjaznione(n):\n",
    "    friends = [(x,y) for x in range(1,n+1) for y in range(x+1,n+1) if check_two(x,y)]\n",
    "    print(friends)\n",
    "    return friends\n",
    "print(zaprzyjaznione(1) == [])\n",
    "print(zaprzyjaznione(300) == [(220, 284)])\n",
    "print(zaprzyjaznione(2000) == [(220, 284), (1184, 1210)])\n",
    "print(zaprzyjaznione(13000) == [(220, 284), (1184, 1210),(2620, 2924), (5020, 5564), (6232, 6368), (10744, 10856), (12285, 14595)])"
   ]
  },
  {
   "cell_type": "code",
   "execution_count": 2,
   "metadata": {
    "pycharm": {
     "name": "#%%\n"
    }
   },
   "outputs": [
    {
     "name": "stdout",
     "output_type": "stream",
     "text": [
      "True\n",
      "True\n",
      "True\n"
     ]
    }
   ],
   "source": [
    "import numpy as np\n",
    "import math\n",
    "def phi_euler(n):\n",
    "    out = 0\n",
    "    for i in range(1,n+1):\n",
    "        if math.gcd(i,n) == 1:\n",
    "            out += 1\n",
    "    return out\n",
    "print(phi_euler(6) == 2)\n",
    "print(phi_euler(64) == 32)\n",
    "print(phi_euler(97) == 96)"
   ]
  },
  {
   "cell_type": "markdown",
   "metadata": {
    "pycharm": {
     "name": "#%% md\n"
    }
   },
   "source": [
    "### Zadanie 2\n"
   ]
  },
  {
   "cell_type": "markdown",
   "metadata": {
    "pycharm": {
     "name": "#%% md\n"
    }
   },
   "source": [
    "Uzupełnij poniższe impementacje tak aby osiągnąć zbliczone czasy wykonania\n",
    "- `is_perfect`: 76.5 ms ± 5.79 ms per loop (mean ± std. dev. of 7 runs, 40 loops each)\n",
    "- `is_perfect2`: 73 ms ± 4 ms per loop (mean ± std. dev. of 7 runs, 40 loops each)"
   ]
  },
  {
   "cell_type": "code",
   "execution_count": 10,
   "metadata": {
    "pycharm": {
     "name": "#%%\n"
    }
   },
   "outputs": [],
   "source": [
    "def is_perfect(n):\n",
    "    \"\"\"\n",
    "    Funkcja powinna sprawdzać, czy dana liczba n jest doskonała\n",
    "    https://pl.wikipedia.org/wiki/Liczba_doskona%C5%82a\n",
    "    \"\"\"\n",
    "    # sum = 0\n",
    "    # for x in range(1, n):\n",
    "    #     if n % x == 0:\n",
    "    #         sum += x\n",
    "    # return sum == n\n",
    "    return sum(filter(lambda x: n%x == 0,[i for i in range(1,n)])) == n"
   ]
  },
  {
   "cell_type": "code",
   "execution_count": 11,
   "metadata": {
    "pycharm": {
     "name": "#%%\n"
    }
   },
   "outputs": [
    {
     "name": "stdout",
     "output_type": "stream",
     "text": [
      "True\n",
      "True\n",
      "True\n"
     ]
    }
   ],
   "source": [
    "# nie ma mozliwosci sensownego porownania sie do czasu z polecenia\n",
    "print(is_perfect(6) is True)\n",
    "print(is_perfect(28) is True)\n",
    "print(is_perfect(7) is False)"
   ]
  },
  {
   "cell_type": "code",
   "execution_count": null,
   "metadata": {
    "pycharm": {
     "name": "#%%\n",
     "is_executing": true
    }
   },
   "outputs": [],
   "source": [
    "def is_perfect2(n):\n",
    "    \"\"\"\n",
    "    Funkcja powinna sprawdzać, czy dana liczba n jest doskonała\n",
    "    https://pl.wikipedia.org/wiki/Liczba_doskona%C5%82a\n",
    "    \"\"\"\n",
    "    pass"
   ]
  },
  {
   "cell_type": "code",
   "execution_count": null,
   "metadata": {
    "pycharm": {
     "name": "#%%\n",
     "is_executing": true
    }
   },
   "outputs": [],
   "source": [
    "print(is_perfect2(6) is True)\n",
    "print(is_perfect2(28) is True)\n",
    "print(is_perfect2(7) is False)"
   ]
  },
  {
   "cell_type": "markdown",
   "metadata": {
    "pycharm": {
     "name": "#%% md\n"
    }
   },
   "source": [
    "## Zadanie dodatkowe\n",
    "Można za nie zdobyć punkty z aktywności, równiez oddając je za tydzień.\n",
    "\n",
    "Dla zadanej tablicy o długości $n$ zawierającej liczby całkowite większe od zera. \n",
    "Chcemy znaleźć podtablice, że $m$ kolejnych elementów sumuje się do $d$.\n",
    "\n",
    "Napisz funkcję która dla danych $m$, $d$ i sekwencję liczb całkowitych większych od zera $tab$, wypisze na ile sposobów można stworzyć taką podtablice?\n",
    "\n",
    "Przykładowo, niech $m=2$, $d=3$, a czekolada składa się z $tab = [1,2,1,3,2]$. Chcemy znaleźć takie dwa (bo m=2) elementy pod rząd, których suma da nam $d=3$. Jest to pierwszy i drugi element lub drugi i trzeci.\n",
    "\n",
    "\n",
    "**Napisz program, który działa w czasie liniowym.**"
   ]
  },
  {
   "cell_type": "code",
   "execution_count": null,
   "metadata": {
    "collapsed": true,
    "pycharm": {
     "name": "#%%\n",
     "is_executing": true
    }
   },
   "outputs": [],
   "source": [
    "def solve(d, m, tab):\n",
    "    sum(1 for i in range(len(tab)-m+1) if sum(tab[i:i+m]) == d)"
   ]
  },
  {
   "cell_type": "code",
   "execution_count": null,
   "metadata": {
    "collapsed": true,
    "pycharm": {
     "name": "#%%\n",
     "is_executing": true
    }
   },
   "outputs": [],
   "source": [
    "tab=[1, 2, 1, 3, 2]\n",
    "d=3 \n",
    "m=2\n",
    "tab1=[1, 1, 1, 1, 1, 1]\n",
    "d1=3 \n",
    "m1=2\n",
    "tab2=[4,1,3,4,1,1,1,1,1,1,1]\n",
    "d2=4 \n",
    "m2=4"
   ]
  },
  {
   "cell_type": "code",
   "execution_count": null,
   "metadata": {
    "collapsed": true,
    "pycharm": {
     "name": "#%%\n",
     "is_executing": true
    }
   },
   "outputs": [],
   "source": [
    "print(solve(d, m, tab)==2)\n",
    "print(solve(d1, m1, tab1)==0)\n",
    "print(solve(d2, m2, tab2)==4)"
   ]
  },
  {
   "cell_type": "markdown",
   "metadata": {
    "pycharm": {
     "name": "#%% md\n"
    }
   },
   "source": [
    "## Zadanie dodatkowe 2\n",
    "Można za nie zdobyć punkty z aktywności, również oddając je za tydzień.\n",
    "\n",
    "Napisz definicję funkcji HowManyIntegers(N), która zwróci jak wiele liczb z zakresu [1,N) składa się wyłącznie z cyfr {0,2,7,9}. <br><br>\n",
    "Czyli np. <br>\n",
    "HowManyIntegers(1) = 0 <br>\n",
    "HowManyIntegers(10) = 3 # 2,7,9 <br>\n",
    "HowManyIntegers(28) = 6 # 2,7,9,20,22,27 <br>\n",
    "\n",
    "Twoje rozwiązanie powinno mieć jak najmniej niebiałych znaków. Czy uda się w 69? A może da się jeszcze mniej?"
   ]
  },
  {
   "cell_type": "code",
   "execution_count": null,
   "metadata": {
    "pycharm": {
     "name": "#%%\n",
     "is_executing": true
    }
   },
   "outputs": [],
   "source": [
    "import re\n",
    "def HowManyIntegers(n):\n",
    "    return sum(1 for x in range(n) if re.match('^[0279]+$',str(x)))-1\n",
    "\n",
    "print(HowManyIntegers(1) == 0) \n",
    "print(HowManyIntegers(10) == 3) # 2,7,9 \n",
    "print(HowManyIntegers(28) == 6) # 2,7,9,20,22,27"
   ]
  },
  {
   "cell_type": "markdown",
   "metadata": {
    "pycharm": {
     "name": "#%% md\n"
    }
   },
   "source": [
    "## Bonusy\n",
    "\n",
    "\"Dodatkowe\" pakiety Pythona"
   ]
  },
  {
   "cell_type": "code",
   "execution_count": null,
   "metadata": {
    "collapsed": true,
    "pycharm": {
     "name": "#%%\n",
     "is_executing": true
    }
   },
   "outputs": [],
   "source": [
    "# flying\n",
    "import antigravity"
   ]
  },
  {
   "cell_type": "code",
   "execution_count": null,
   "metadata": {
    "collapsed": true,
    "pycharm": {
     "name": "#%%\n",
     "is_executing": true
    }
   },
   "outputs": [],
   "source": [
    "# PEP20\n",
    "import this"
   ]
  },
  {
   "cell_type": "code",
   "execution_count": null,
   "metadata": {
    "collapsed": true,
    "pycharm": {
     "name": "#%%\n",
     "is_executing": true
    }
   },
   "outputs": [],
   "source": [
    "# A poem\n",
    "love = this\n",
    "\n",
    "this is love, love is not True or False, love is love"
   ]
  },
  {
   "cell_type": "code",
   "execution_count": null,
   "metadata": {
    "collapsed": true,
    "pycharm": {
     "name": "#%%\n",
     "is_executing": true
    }
   },
   "outputs": [],
   "source": [
    "# Nie lubię wcięć, chce używać nawiasów {} do bloków kodu\n",
    "from __future__ import braces"
   ]
  }
 ],
 "metadata": {
  "kernelspec": {
   "name": "python3",
   "language": "python",
   "display_name": "Python 3 (ipykernel)"
  },
  "language_info": {
   "codemirror_mode": {
    "name": "ipython",
    "version": 3
   },
   "file_extension": ".py",
   "mimetype": "text/x-python",
   "name": "python",
   "nbconvert_exporter": "python",
   "pygments_lexer": "ipython3",
   "version": "3.8.6"
  }
 },
 "nbformat": 4,
 "nbformat_minor": 2
}