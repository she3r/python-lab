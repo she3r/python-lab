{
 "cells": [
  {
   "cell_type": "markdown",
   "metadata": {},
   "source": [
    "# Laboratorium 9"
   ]
  },
  {
   "cell_type": "markdown",
   "metadata": {},
   "source": [
    "### 0. Wczytanie danych\n",
    "Używając metody `load_svmlight_file` z modułu `sklearn` załaduj plik `lab13_files/breast_cancer`, który składa się z 2 elementów: macierzy `X` o wymiarach `683 x 10` oraz wektora `y` o dlugosci `683`. Macierz `X` opisuje badania 683 pacjentow, a wektor `y` ich diagnozy. "
   ]
  },
  {
   "cell_type": "code",
   "execution_count": 11,
   "metadata": {
    "collapsed": true
   },
   "outputs": [
    {
     "data": {
      "text/plain": "array([2., 2., 2., 2., 2., 4., 2., 2., 2., 2., 2., 2., 4., 2., 4., 4., 2.,\n       2., 4., 2., 4., 4., 2., 2., 4., 2., 2., 2., 2., 2., 2., 4., 2., 2.,\n       2., 4., 2., 4., 4., 4., 4., 4., 4., 2., 4., 2., 2., 4., 4., 4., 4.,\n       4., 4., 4., 4., 4., 4., 4., 4., 2., 4., 4., 2., 4., 2., 4., 4., 2.,\n       2., 4., 2., 4., 4., 2., 2., 2., 2., 2., 2., 2., 2., 2., 4., 4., 4.,\n       4., 2., 2., 2., 2., 2., 2., 2., 2., 2., 2., 4., 4., 4., 4., 2., 4.,\n       4., 4., 4., 4., 2., 4., 2., 4., 4., 4., 2., 2., 2., 4., 2., 2., 2.,\n       2., 4., 4., 4., 2., 4., 2., 4., 2., 2., 2., 4., 2., 2., 2., 2., 2.,\n       2., 2., 2., 4., 2., 2., 4., 2., 2., 4., 2., 4., 4., 2., 2., 4., 2.,\n       2., 4., 4., 2., 2., 2., 2., 4., 4., 2., 2., 2., 2., 2., 4., 4., 4.,\n       2., 4., 2., 4., 2., 2., 2., 4., 4., 2., 4., 4., 4., 2., 4., 4., 2.,\n       2., 2., 2., 2., 2., 2., 2., 4., 4., 2., 2., 2., 4., 4., 2., 2., 2.,\n       4., 4., 2., 4., 4., 4., 2., 2., 4., 2., 2., 4., 4., 4., 4., 2., 4.,\n       4., 2., 4., 4., 4., 2., 4., 2., 4., 4., 4., 4., 2., 2., 2., 2., 2.,\n       2., 4., 4., 2., 2., 4., 2., 4., 4., 4., 2., 2., 2., 2., 4., 4., 4.,\n       4., 4., 2., 4., 4., 4., 2., 4., 2., 4., 4., 2., 2., 2., 2., 4., 2.,\n       2., 4., 4., 4., 4., 4., 2., 4., 4., 2., 2., 4., 4., 2., 2., 4., 4.,\n       2., 4., 2., 4., 4., 2., 2., 4., 2., 2., 2., 4., 2., 2., 4., 4., 2.,\n       2., 4., 2., 4., 2., 2., 4., 2., 4., 4., 4., 2., 2., 4., 4., 2., 4.,\n       2., 2., 4., 4., 2., 2., 2., 4., 2., 2., 2., 4., 4., 2., 2., 2., 4.,\n       2., 2., 4., 4., 4., 4., 4., 4., 2., 2., 2., 2., 4., 4., 2., 2., 2.,\n       2., 2., 2., 2., 2., 2., 2., 2., 2., 2., 4., 2., 2., 2., 2., 4., 2.,\n       2., 2., 2., 4., 2., 2., 2., 2., 2., 2., 2., 2., 4., 2., 2., 2., 2.,\n       2., 2., 2., 2., 2., 2., 4., 2., 4., 2., 4., 2., 2., 2., 2., 4., 2.,\n       2., 2., 4., 2., 4., 2., 2., 2., 2., 2., 2., 2., 4., 4., 2., 2., 2.,\n       4., 2., 2., 2., 2., 2., 2., 2., 2., 4., 2., 2., 2., 4., 2., 4., 4.,\n       4., 2., 2., 2., 2., 2., 2., 2., 4., 4., 4., 2., 2., 2., 2., 2., 2.,\n       2., 2., 2., 2., 2., 4., 2., 2., 4., 4., 2., 2., 2., 4., 4., 4., 2.,\n       4., 2., 4., 2., 2., 2., 2., 2., 2., 2., 2., 2., 2., 2., 2., 4., 2.,\n       2., 2., 2., 2., 2., 2., 4., 4., 2., 2., 2., 4., 2., 2., 4., 4., 2.,\n       2., 2., 2., 2., 2., 4., 2., 2., 2., 2., 2., 2., 2., 2., 2., 2., 2.,\n       2., 2., 2., 2., 4., 2., 2., 4., 2., 2., 2., 2., 2., 2., 2., 2., 2.,\n       2., 2., 2., 2., 2., 2., 4., 2., 2., 4., 4., 4., 4., 2., 2., 4., 2.,\n       2., 2., 2., 2., 2., 4., 4., 2., 2., 2., 4., 2., 4., 2., 4., 4., 4.,\n       2., 4., 2., 2., 2., 2., 2., 2., 2., 2., 4., 4., 4., 2., 2., 4., 2.,\n       4., 4., 4., 2., 2., 2., 2., 2., 2., 2., 2., 2., 2., 2., 2., 4., 2.,\n       2., 2., 2., 2., 2., 4., 2., 2., 4., 2., 2., 2., 2., 2., 2., 2., 2.,\n       2., 2., 2., 4., 2., 2., 2., 2., 2., 2., 2., 2., 2., 4., 2., 2., 2.,\n       2., 2., 2., 2., 2., 2., 4., 4., 4., 2., 2., 2., 2., 2., 2., 2., 2.,\n       2., 4., 4., 2., 2., 2., 2., 2., 2., 2., 2., 2., 4., 2., 2., 2., 2.,\n       4., 4., 4.])"
     },
     "execution_count": 11,
     "metadata": {},
     "output_type": "execute_result"
    }
   ],
   "source": [
    "from sklearn.datasets import load_svmlight_file\n",
    "\n",
    "X, y = load_svmlight_file('lab13_files/breast-cancer')\n",
    "X = X.toarray()"
   ]
  },
  {
   "cell_type": "markdown",
   "source": [
    "### 1. Preprocessing\n",
    "1.1 Korzystajac z `numpy.where` przenumeruj wektor y, tzn zamień wartości 2 i 4 na -1 i +1.\n",
    "\n",
    "1.2 Przeskaluj macierz X, tak żeby wartości w każdej kolumnie mieściły się w zakresie [0,1], innymi słowy przeskaluj niezależnie każdą kolumne $X_j$ wg wzoru:\n",
    "\n",
    "\n",
    "$$\n",
    "X_j = \\frac{X_j-\\min(X_j)}{\\max(X_j)-\\min(X_j)}\n",
    "$$"
   ],
   "metadata": {
    "collapsed": false
   }
  },
  {
   "cell_type": "code",
   "execution_count": 15,
   "metadata": {
    "collapsed": true
   },
   "outputs": [],
   "source": [
    "import numpy as np\n",
    "y = np.where(y == 2,-1,y)\n",
    "y = np.where(y == 4,1,y)\n",
    "min = np.min(X,axis=0)\n",
    "max = np.max(X,axis=0)\n",
    "X = (X - min) / (max - min)"
   ]
  },
  {
   "cell_type": "code",
   "execution_count": 16,
   "outputs": [
    {
     "data": {
      "text/plain": "array([[0.06994635, 0.44444444, 0.        , ..., 0.22222222, 0.        ,\n        0.        ],\n       [0.07016441, 0.44444444, 0.33333333, ..., 0.22222222, 0.11111111,\n        0.        ],\n       [0.07109638, 0.22222222, 0.        , ..., 0.22222222, 0.        ,\n        0.        ],\n       ...,\n       [0.06164188, 0.44444444, 1.        , ..., 0.77777778, 1.        ,\n        0.11111111],\n       [0.06228791, 0.33333333, 0.77777778, ..., 1.        , 0.55555556,\n        0.        ],\n       [0.06228791, 0.33333333, 0.77777778, ..., 1.        , 0.33333333,\n        0.        ]])"
     },
     "execution_count": 16,
     "metadata": {},
     "output_type": "execute_result"
    }
   ],
   "source": [
    "X"
   ],
   "metadata": {
    "collapsed": false
   }
  },
  {
   "cell_type": "code",
   "execution_count": 17,
   "outputs": [
    {
     "data": {
      "text/plain": "array([-1., -1., -1., -1., -1.,  1., -1., -1., -1., -1., -1., -1.,  1.,\n       -1.,  1.,  1., -1., -1.,  1., -1.,  1.,  1., -1., -1.,  1., -1.,\n       -1., -1., -1., -1., -1.,  1., -1., -1., -1.,  1., -1.,  1.,  1.,\n        1.,  1.,  1.,  1., -1.,  1., -1., -1.,  1.,  1.,  1.,  1.,  1.,\n        1.,  1.,  1.,  1.,  1.,  1.,  1., -1.,  1.,  1., -1.,  1., -1.,\n        1.,  1., -1., -1.,  1., -1.,  1.,  1., -1., -1., -1., -1., -1.,\n       -1., -1., -1., -1.,  1.,  1.,  1.,  1., -1., -1., -1., -1., -1.,\n       -1., -1., -1., -1., -1.,  1.,  1.,  1.,  1., -1.,  1.,  1.,  1.,\n        1.,  1., -1.,  1., -1.,  1.,  1.,  1., -1., -1., -1.,  1., -1.,\n       -1., -1., -1.,  1.,  1.,  1., -1.,  1., -1.,  1., -1., -1., -1.,\n        1., -1., -1., -1., -1., -1., -1., -1., -1.,  1., -1., -1.,  1.,\n       -1., -1.,  1., -1.,  1.,  1., -1., -1.,  1., -1., -1.,  1.,  1.,\n       -1., -1., -1., -1.,  1.,  1., -1., -1., -1., -1., -1.,  1.,  1.,\n        1., -1.,  1., -1.,  1., -1., -1., -1.,  1.,  1., -1.,  1.,  1.,\n        1., -1.,  1.,  1., -1., -1., -1., -1., -1., -1., -1., -1.,  1.,\n        1., -1., -1., -1.,  1.,  1., -1., -1., -1.,  1.,  1., -1.,  1.,\n        1.,  1., -1., -1.,  1., -1., -1.,  1.,  1.,  1.,  1., -1.,  1.,\n        1., -1.,  1.,  1.,  1., -1.,  1., -1.,  1.,  1.,  1.,  1., -1.,\n       -1., -1., -1., -1., -1.,  1.,  1., -1., -1.,  1., -1.,  1.,  1.,\n        1., -1., -1., -1., -1.,  1.,  1.,  1.,  1.,  1., -1.,  1.,  1.,\n        1., -1.,  1., -1.,  1.,  1., -1., -1., -1., -1.,  1., -1., -1.,\n        1.,  1.,  1.,  1.,  1., -1.,  1.,  1., -1., -1.,  1.,  1., -1.,\n       -1.,  1.,  1., -1.,  1., -1.,  1.,  1., -1., -1.,  1., -1., -1.,\n       -1.,  1., -1., -1.,  1.,  1., -1., -1.,  1., -1.,  1., -1., -1.,\n        1., -1.,  1.,  1.,  1., -1., -1.,  1.,  1., -1.,  1., -1., -1.,\n        1.,  1., -1., -1., -1.,  1., -1., -1., -1.,  1.,  1., -1., -1.,\n       -1.,  1., -1., -1.,  1.,  1.,  1.,  1.,  1.,  1., -1., -1., -1.,\n       -1.,  1.,  1., -1., -1., -1., -1., -1., -1., -1., -1., -1., -1.,\n       -1., -1., -1.,  1., -1., -1., -1., -1.,  1., -1., -1., -1., -1.,\n        1., -1., -1., -1., -1., -1., -1., -1., -1.,  1., -1., -1., -1.,\n       -1., -1., -1., -1., -1., -1., -1.,  1., -1.,  1., -1.,  1., -1.,\n       -1., -1., -1.,  1., -1., -1., -1.,  1., -1.,  1., -1., -1., -1.,\n       -1., -1., -1., -1.,  1.,  1., -1., -1., -1.,  1., -1., -1., -1.,\n       -1., -1., -1., -1., -1.,  1., -1., -1., -1.,  1., -1.,  1.,  1.,\n        1., -1., -1., -1., -1., -1., -1., -1.,  1.,  1.,  1., -1., -1.,\n       -1., -1., -1., -1., -1., -1., -1., -1., -1.,  1., -1., -1.,  1.,\n        1., -1., -1., -1.,  1.,  1.,  1., -1.,  1., -1.,  1., -1., -1.,\n       -1., -1., -1., -1., -1., -1., -1., -1., -1., -1.,  1., -1., -1.,\n       -1., -1., -1., -1., -1.,  1.,  1., -1., -1., -1.,  1., -1., -1.,\n        1.,  1., -1., -1., -1., -1., -1., -1.,  1., -1., -1., -1., -1.,\n       -1., -1., -1., -1., -1., -1., -1., -1., -1., -1., -1.,  1., -1.,\n       -1.,  1., -1., -1., -1., -1., -1., -1., -1., -1., -1., -1., -1.,\n       -1., -1., -1., -1.,  1., -1., -1.,  1.,  1.,  1.,  1., -1., -1.,\n        1., -1., -1., -1., -1., -1., -1.,  1.,  1., -1., -1., -1.,  1.,\n       -1.,  1., -1.,  1.,  1.,  1., -1.,  1., -1., -1., -1., -1., -1.,\n       -1., -1., -1.,  1.,  1.,  1., -1., -1.,  1., -1.,  1.,  1.,  1.,\n       -1., -1., -1., -1., -1., -1., -1., -1., -1., -1., -1., -1.,  1.,\n       -1., -1., -1., -1., -1., -1.,  1., -1., -1.,  1., -1., -1., -1.,\n       -1., -1., -1., -1., -1., -1., -1., -1.,  1., -1., -1., -1., -1.,\n       -1., -1., -1., -1., -1.,  1., -1., -1., -1., -1., -1., -1., -1.,\n       -1., -1.,  1.,  1.,  1., -1., -1., -1., -1., -1., -1., -1., -1.,\n       -1.,  1.,  1., -1., -1., -1., -1., -1., -1., -1., -1., -1.,  1.,\n       -1., -1., -1., -1.,  1.,  1.,  1.])"
     },
     "execution_count": 17,
     "metadata": {},
     "output_type": "execute_result"
    }
   ],
   "source": [
    "y"
   ],
   "metadata": {
    "collapsed": false
   }
  },
  {
   "cell_type": "markdown",
   "metadata": {},
   "source": [
    "### 2. Wizualizacja\n",
    "Narysuj dane używajac biblioteki `matplotlib`. Użyj wymiarów 1 i 2 z macierzy X, a jako kolory użyj wektora y. Pobaw sie parametrami \"s\" oraz \"alpha\" metody `plt.scatter` żeby uzyskać czytelną wizualizacje, np. taką jak poniżej."
   ]
  },
  {
   "cell_type": "markdown",
   "metadata": {},
   "source": [
    "<img src=\"lab13_files/d.png\">"
   ]
  },
  {
   "cell_type": "code",
   "execution_count": 19,
   "metadata": {
    "collapsed": true
   },
   "outputs": [
    {
     "data": {
      "text/plain": "<matplotlib.collections.PathCollection at 0x1a1b66a2a90>"
     },
     "execution_count": 19,
     "metadata": {},
     "output_type": "execute_result"
    },
    {
     "data": {
      "text/plain": "<Figure size 504x432 with 1 Axes>",
      "image/png": "[encoded data removed]"
     },
     "metadata": {
      "needs_background": "light"
     },
     "output_type": "display_data"
    }
   ],
   "source": [
    "%matplotlib inline\n",
    "import matplotlib.pyplot as plt\n",
    "plt.rcParams[\"figure.figsize\"] = (7,6)\n",
    "z = np.where(y==1,\"purple\",\"green\")\n",
    "plt.scatter(X[:,1],X[:,2],s=200,c=z,alpha=0.6)"
   ]
  },
  {
   "cell_type": "markdown",
   "metadata": {},
   "source": [
    "### 3. Regresja \n",
    "\n",
    "Przeprowadź regresje liniową wg wzoru:\n",
    "$$\n",
    "\\beta = (X^TX)^{-1}X^Ty\n",
    "$$"
   ]
  },
  {
   "cell_type": "code",
   "execution_count": 41,
   "metadata": {
    "collapsed": true
   },
   "outputs": [],
   "source": [
    "from numpy.linalg import inv\n",
    "from sklearn.linear_model import LinearRegression\n",
    "lin_reg = LinearRegression()\n",
    "pred = lin_reg.fit(X,y)"
   ]
  },
  {
   "cell_type": "markdown",
   "metadata": {},
   "source": [
    "### 4. Wizualizacja Regresji\n",
    "\n",
    "Zwizualizuj dane po zrzutowaniu na $\\beta$ używajac metody `plt.hist`, tzn. narysuj histogramy $\\beta X_+$ oraz\n",
    "$\\beta X_-$ gdzie $X_+$ to wiersze $X$ dla których $y=+1$ i analogicznie $X_-$. Postaraj się wygenerować czytelny wykres podobny do tego poniżej."
   ]
  },
  {
   "cell_type": "markdown",
   "metadata": {},
   "source": [
    "<img src=\"lab13_files/lr1.png\">"
   ]
  },
  {
   "cell_type": "code",
   "execution_count": 42,
   "metadata": {
    "collapsed": true
   },
   "outputs": [
    {
     "data": {
      "text/plain": "<Figure size 504x432 with 1 Axes>",
      "image/png": "[encoded data removed]"
     },
     "metadata": {
      "needs_background": "light"
     },
     "output_type": "display_data"
    }
   ],
   "source": [
    "def predict(X,coeffs):\n",
    "    return X @ coeffs\n",
    "X_positive = np.delete(X, np.where(y == -1),axis=0)\n",
    "X_negative = np.delete(X, np.where(y == 1),axis=0)\n",
    "\n",
    "def plot_hist(pred1,pred2):\n",
    "    plt.hist(pred1,bins=20,color=\"green\",alpha=0.5,label=\"positive\")\n",
    "    plt.hist(pred2,bins=20,color=\"red\",alpha=0.5,label=\"negative\")\n",
    "    plt.legend()\n",
    "    plt.show()\n",
    "plot_hist(predict(X_positive,pred.coef_),predict(X_negative,pred.coef_))"
   ]
  },
  {
   "cell_type": "markdown",
   "metadata": {},
   "source": [
    "### 5. Klasyfikacja\n",
    "\n",
    "Przeprowadź \"klasyfikacje\" naszych pacjentów, ci, którzy zostali zrzutowani na wartość ujemną dostają etykiete $-1$, a ci którzy na wartość dodatnia - etykiete $+1$"
   ]
  },
  {
   "cell_type": "markdown",
   "metadata": {},
   "source": [
    "### 6. Ewaluacja\n",
    "\n",
    "Policz jak dokładny jest ten model, tzn. jak duży jest zbiór\n",
    "$ \\{ (x_i,y_i) : \\mathrm{sign}(\\beta x_i) = y_i \\} $\n",
    "w stosunku do rozmiaru całego $y$\n",
    "\n",
    "Powinno udać się uzyskać wynik na poziomie 93-94%"
   ]
  },
  {
   "cell_type": "code",
   "execution_count": null,
   "metadata": {
    "collapsed": true
   },
   "outputs": [],
   "source": [
    "beta = pred.coef_\n",
    "classification = np.where(X @ beta > 0, 1, -1)\n",
    "print(np.sum(classification == 1)/ (np.sum(classification == 1) + np.sum(classification == -1)))"
   ]
  },
  {
   "cell_type": "markdown",
   "metadata": {},
   "source": [
    "### 7. Regularyzacja \n",
    "Dodaj parametr `C` do regresji liniowej\n",
    "$$\n",
    "\\beta = (X^TX + \\tfrac{1}{C}I)^{-1}X^Ty\n",
    "$$\n",
    "\n",
    "gdzie $I$ - macierz identyczności. \n",
    "\n",
    "Dla jakiej wartości `C` wynik jest najlepszy? Jaki wynik udało Ci sie uzyskać?"
   ]
  },
  {
   "cell_type": "code",
   "execution_count": null,
   "metadata": {
    "collapsed": true
   },
   "outputs": [],
   "source": []
  },
  {
   "cell_type": "markdown",
   "metadata": {},
   "source": [
    "### 8. Gratulacje\n",
    "Właśnie stworzyłeś/-aś swój pierwszy klasyfikator (statystyczny model predykcji). \n",
    "\n",
    "Spróbuj zastosować go do innych danych."
   ]
  },
  {
   "cell_type": "markdown",
   "metadata": {},
   "source": [
    "### Zadanie dodatkowe\n",
    "\n",
    "Zaimplementuj powyższą metode jako klase `LRClassifier` wyposażoną w następujące metody:\n",
    "\n",
    "* konstruktor przyjmujący dwa parametry: \n",
    "    * `C` - stała z równania \n",
    "    * `scale` - zmienna boolowska (domyslnie `True`) która określa czy macierz `X` ma byc automatycznie znormalizowana (przeskalowana do `[0,1]`)\n",
    "* `.fit(X, y)` która spowoduje obliczenie $\\beta$, dla `X` - dowolnej macierzy, `y` - wektora etykiet skladajacego sie z dwóch unikalnych wartosci (mogą to byc np. 2 różne stringi)\n",
    "* `.predict(X)`, która zwróci wektor zawierajacy na `i`tej pozycji etykiete \"przewidzianą\" przez nasz model (pamiętaj o skalowaniu jesli `scale==True`!)\n",
    "\n",
    "Przykladowe użycie:\n",
    "\n",
    "    clf = LRClassifier(C=100)\n",
    "    Xt = np.array([[1, 0], [1, 1], [1, 2], [1, 3], [1, 4]])\n",
    "    yt = np.array(['x', 'x', 'y', 'y', 'y'])\n",
    "    clf.fit(Xt, yt)\n",
    "    X = np.array([[1, -1], [1, 0.9], [1, 2.1]])\n",
    "    print(clf.predict(X)) # ['x', 'x', 'y']"
   ]
  }
 ],
 "metadata": {
  "kernelspec": {
   "display_name": "Python 3",
   "language": "python",
   "name": "python3"
  },
  "language_info": {
   "codemirror_mode": {
    "name": "ipython",
    "version": 3
   },
   "file_extension": ".py",
   "mimetype": "text/x-python",
   "name": "python",
   "nbconvert_exporter": "python",
   "pygments_lexer": "ipython3",
   "version": "3.6.4"
  }
 },
 "nbformat": 4,
 "nbformat_minor": 1
}
