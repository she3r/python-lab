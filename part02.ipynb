{
 "cells": [
  {
   "cell_type": "markdown",
   "metadata": {
    "slideshow": {
     "slide_type": "slide"
    },
    "pycharm": {
     "name": "#%% md\n"
    }
   },
   "source": [
    "# Efektywne programowanie w języku Python \n",
    "\n",
    "## wykład 2"
   ]
  },
  {
   "cell_type": "markdown",
   "metadata": {
    "slideshow": {
     "slide_type": "slide"
    },
    "pycharm": {
     "name": "#%% md\n"
    }
   },
   "source": [
    "## Do you know that?"
   ]
  },
  {
   "cell_type": "markdown",
   "metadata": {
    "slideshow": {
     "slide_type": "subslide"
    },
    "pycharm": {
     "name": "#%% md\n"
    }
   },
   "source": [
    "### Explicit line joining"
   ]
  },
  {
   "cell_type": "code",
   "execution_count": null,
   "metadata": {
    "slideshow": {
     "slide_type": "fragment"
    },
    "pycharm": {
     "name": "#%%\n"
    }
   },
   "outputs": [],
   "source": [
    "if 1900 < year < 2100 and 1 <= month <= 12 \\\n",
    "   and 1 <= day <= 31 and 0 <= hour < 24 \\\n",
    "   and 0 <= minute < 60 and 0 <= second < 60:   # Looks like a valid date\n",
    "        return 1"
   ]
  },
  {
   "cell_type": "markdown",
   "metadata": {
    "slideshow": {
     "slide_type": "fragment"
    },
    "pycharm": {
     "name": "#%% md\n"
    }
   },
   "source": [
    "Two or more physical lines may be joined into logical lines using backslash characters (\\), as follows: when a physical line ends in a backslash that is not part of a string literal or comment, it is joined with the following forming a single logical line, deleting the backslash and the following end-of-line character."
   ]
  },
  {
   "cell_type": "markdown",
   "metadata": {
    "slideshow": {
     "slide_type": "subslide"
    },
    "pycharm": {
     "name": "#%% md\n"
    }
   },
   "source": [
    "###  String literal concatenation"
   ]
  },
  {
   "cell_type": "code",
   "execution_count": null,
   "metadata": {
    "slideshow": {
     "slide_type": "fragment"
    },
    "pycharm": {
     "name": "#%%\n"
    }
   },
   "outputs": [],
   "source": [
    "re.compile(\"[A-Za-z_]\"       # letter or underscore\n",
    "           \"[A-Za-z0-9_]*\"   # letter, digit or underscore\n",
    "          )"
   ]
  },
  {
   "cell_type": "markdown",
   "metadata": {
    "slideshow": {
     "slide_type": "fragment"
    },
    "pycharm": {
     "name": "#%% md\n"
    }
   },
   "source": [
    "Multiple adjacent string or bytes literals (delimited by whitespace), possibly using different quoting conventions, are allowed, and their meaning is the same as their concatenation. Thus, \"hello\" 'world' is equivalent to \"helloworld\"."
   ]
  },
  {
   "cell_type": "markdown",
   "metadata": {
    "slideshow": {
     "slide_type": "fragment"
    },
    "pycharm": {
     "name": "#%% md\n"
    }
   },
   "source": [
    "Note that this feature is defined at the syntactical level, but implemented at compile time. The ‘+’ operator must be used to concatenate string expressions at run time."
   ]
  },
  {
   "cell_type": "markdown",
   "metadata": {
    "slideshow": {
     "slide_type": "subslide"
    },
    "pycharm": {
     "name": "#%% md\n"
    }
   },
   "source": [
    "### We can use semicolons!!!"
   ]
  },
  {
   "cell_type": "code",
   "execution_count": 4,
   "metadata": {
    "slideshow": {
     "slide_type": "fragment"
    },
    "pycharm": {
     "name": "#%%\n"
    }
   },
   "outputs": [],
   "source": [
    "x, y, z = 3, 1, 2"
   ]
  },
  {
   "cell_type": "code",
   "execution_count": 7,
   "metadata": {
    "slideshow": {
     "slide_type": "fragment"
    },
    "pycharm": {
     "name": "#%%\n"
    }
   },
   "outputs": [],
   "source": [
    "if x < y < z: print(x); print(y); print(z)"
   ]
  },
  {
   "cell_type": "markdown",
   "metadata": {
    "slideshow": {
     "slide_type": "slide"
    },
    "pycharm": {
     "name": "#%% md\n"
    }
   },
   "source": [
    "## What is truth?"
   ]
  },
  {
   "cell_type": "code",
   "execution_count": 8,
   "metadata": {
    "slideshow": {
     "slide_type": "fragment"
    },
    "pycharm": {
     "name": "#%%\n"
    }
   },
   "outputs": [
    {
     "data": {
      "text/plain": "False"
     },
     "execution_count": 8,
     "metadata": {},
     "output_type": "execute_result"
    }
   ],
   "source": [
    "# 'Falsy'\n",
    "bool(None)\n",
    "bool(False)\n",
    "bool(0)\n",
    "bool(0.0)\n",
    "bool('')"
   ]
  },
  {
   "cell_type": "code",
   "execution_count": null,
   "metadata": {
    "slideshow": {
     "slide_type": "subslide"
    },
    "pycharm": {
     "name": "#%%\n"
    }
   },
   "outputs": [],
   "source": [
    "# Empty data structures are 'falsy'\n",
    "bool([]) # => False"
   ]
  },
  {
   "cell_type": "code",
   "execution_count": null,
   "metadata": {
    "slideshow": {
     "slide_type": "fragment"
    },
    "pycharm": {
     "name": "#%%\n"
    }
   },
   "outputs": [],
   "source": [
    "# How should we check for an empty list?\n",
    "data = []\n",
    "if data:\n",
    "    process(data)\n",
    "else:\n",
    "    print(\"There's no data!\")"
   ]
  },
  {
   "cell_type": "markdown",
   "metadata": {
    "slideshow": {
     "slide_type": "fragment"
    },
    "pycharm": {
     "name": "#%% md\n"
    }
   },
   "source": [
    "> goto opt02 :) part 1"
   ]
  },
  {
   "cell_type": "code",
   "execution_count": null,
   "metadata": {
    "slideshow": {
     "slide_type": "subslide"
    },
    "pycharm": {
     "name": "#%%\n"
    }
   },
   "outputs": [],
   "source": [
    "#You should not use \n",
    "if expr == True:\n",
    "    pass\n",
    "\n",
    "# or\n",
    "if len(data) == 0:\n",
    "    pass"
   ]
  },
  {
   "cell_type": "markdown",
   "metadata": {
    "slideshow": {
     "slide_type": "slide"
    },
    "pycharm": {
     "name": "#%% md\n"
    }
   },
   "source": [
    "## Range"
   ]
  },
  {
   "cell_type": "code",
   "execution_count": null,
   "metadata": {
    "slideshow": {
     "slide_type": "fragment"
    },
    "pycharm": {
     "name": "#%%\n"
    }
   },
   "outputs": [],
   "source": [
    "range(3)\n",
    "# generates 0, 1, 2\n",
    "\n",
    "range(5, 10)\n",
    "# generates 5, 6, 7, 8, 9\n",
    "\n",
    "range(2, 12, 3)\n",
    "# generates 2, 5, 8, 11\n",
    "\n",
    "range(-7, -30, -5)\n",
    "# generates -7, -12, -17, -22, -27"
   ]
  },
  {
   "cell_type": "code",
   "execution_count": 1,
   "metadata": {
    "slideshow": {
     "slide_type": "subslide"
    },
    "pycharm": {
     "name": "#%%\n"
    }
   },
   "outputs": [
    {
     "name": "stdout",
     "output_type": "stream",
     "text": [
      "<class 'range'>\n",
      "range(0, 10)\n"
     ]
    }
   ],
   "source": [
    "v = range(10)\n",
    "print(type(v))\n",
    "print(v)"
   ]
  },
  {
   "cell_type": "markdown",
   "metadata": {
    "slideshow": {
     "slide_type": "fragment"
    },
    "pycharm": {
     "name": "#%% md\n"
    }
   },
   "source": [
    "co tutaj dostaniemy?"
   ]
  },
  {
   "cell_type": "code",
   "execution_count": 2,
   "metadata": {
    "slideshow": {
     "slide_type": "fragment"
    },
    "pycharm": {
     "name": "#%%\n"
    }
   },
   "outputs": [
    {
     "name": "stdout",
     "output_type": "stream",
     "text": [
      "Help on class range in module builtins:\n",
      "\n",
      "class range(object)\n",
      " |  range(stop) -> range object\n",
      " |  range(start, stop[, step]) -> range object\n",
      " |  \n",
      " |  Return an object that produces a sequence of integers from start (inclusive)\n",
      " |  to stop (exclusive) by step.  range(i, j) produces i, i+1, i+2, ..., j-1.\n",
      " |  start defaults to 0, and stop is omitted!  range(4) produces 0, 1, 2, 3.\n",
      " |  These are exactly the valid indices for a list of 4 elements.\n",
      " |  When step is given, it specifies the increment (or decrement).\n",
      " |  \n",
      " |  Methods defined here:\n",
      " |  \n",
      " |  __bool__(self, /)\n",
      " |      self != 0\n",
      " |  \n",
      " |  __contains__(self, key, /)\n",
      " |      Return key in self.\n",
      " |  \n",
      " |  __eq__(self, value, /)\n",
      " |      Return self==value.\n",
      " |  \n",
      " |  __ge__(self, value, /)\n",
      " |      Return self>=value.\n",
      " |  \n",
      " |  __getattribute__(self, name, /)\n",
      " |      Return getattr(self, name).\n",
      " |  \n",
      " |  __getitem__(self, key, /)\n",
      " |      Return self[key].\n",
      " |  \n",
      " |  __gt__(self, value, /)\n",
      " |      Return self>value.\n",
      " |  \n",
      " |  __hash__(self, /)\n",
      " |      Return hash(self).\n",
      " |  \n",
      " |  __iter__(self, /)\n",
      " |      Implement iter(self).\n",
      " |  \n",
      " |  __le__(self, value, /)\n",
      " |      Return self<=value.\n",
      " |  \n",
      " |  __len__(self, /)\n",
      " |      Return len(self).\n",
      " |  \n",
      " |  __lt__(self, value, /)\n",
      " |      Return self<value.\n",
      " |  \n",
      " |  __ne__(self, value, /)\n",
      " |      Return self!=value.\n",
      " |  \n",
      " |  __new__(*args, **kwargs) from builtins.type\n",
      " |      Create and return a new object.  See help(type) for accurate signature.\n",
      " |  \n",
      " |  __reduce__(...)\n",
      " |      helper for pickle\n",
      " |  \n",
      " |  __repr__(self, /)\n",
      " |      Return repr(self).\n",
      " |  \n",
      " |  __reversed__(...)\n",
      " |      Return a reverse iterator.\n",
      " |  \n",
      " |  count(...)\n",
      " |      rangeobject.count(value) -> integer -- return number of occurrences of value\n",
      " |  \n",
      " |  index(...)\n",
      " |      rangeobject.index(value, [start, [stop]]) -> integer -- return index of value.\n",
      " |      Raise ValueError if the value is not present.\n",
      " |  \n",
      " |  ----------------------------------------------------------------------\n",
      " |  Data descriptors defined here:\n",
      " |  \n",
      " |  start\n",
      " |  \n",
      " |  step\n",
      " |  \n",
      " |  stop\n",
      "\n"
     ]
    }
   ],
   "source": [
    "help(range)"
   ]
  },
  {
   "cell_type": "markdown",
   "metadata": {
    "collapsed": true,
    "slideshow": {
     "slide_type": "slide"
    },
    "pycharm": {
     "name": "#%% md\n"
    }
   },
   "source": [
    "## Data structures"
   ]
  },
  {
   "cell_type": "markdown",
   "metadata": {
    "slideshow": {
     "slide_type": "slide"
    },
    "pycharm": {
     "name": "#%% md\n"
    }
   },
   "source": [
    "### 1. Lists"
   ]
  },
  {
   "cell_type": "markdown",
   "metadata": {
    "slideshow": {
     "slide_type": "fragment"
    },
    "pycharm": {
     "name": "#%% md\n"
    }
   },
   "source": [
    "> Finite, ordered, mutable sequence of elements"
   ]
  },
  {
   "cell_type": "code",
   "execution_count": null,
   "metadata": {
    "slideshow": {
     "slide_type": "fragment"
    },
    "pycharm": {
     "name": "#%%\n"
    }
   },
   "outputs": [],
   "source": [
    "simple_list = [1, 2, 3]"
   ]
  },
  {
   "cell_type": "code",
   "execution_count": null,
   "metadata": {
    "slideshow": {
     "slide_type": "subslide"
    },
    "pycharm": {
     "name": "#%%\n"
    }
   },
   "outputs": [],
   "source": [
    "# Create a new list\n",
    "empty = []\n",
    "empty2 = list()\n",
    "letters = ['a', 'b', 'c', 'd']\n",
    "numbers = [2, 3, 5]"
   ]
  },
  {
   "cell_type": "code",
   "execution_count": null,
   "metadata": {
    "slideshow": {
     "slide_type": "fragment"
    },
    "pycharm": {
     "name": "#%%\n"
    }
   },
   "outputs": [],
   "source": [
    "# Lists can contain elements of different types\n",
    "mixed = [4, 5, \"seconds\"]"
   ]
  },
  {
   "cell_type": "code",
   "execution_count": null,
   "metadata": {
    "slideshow": {
     "slide_type": "fragment"
    },
    "pycharm": {
     "name": "#%%\n"
    }
   },
   "outputs": [],
   "source": [
    "# Append elements to the end of a list\n",
    "numbers.append(7) # numbers == [2, 3, 5, 7]\n",
    "numbers.append(11) # numbers == [2, 3, 5, 7, 11]"
   ]
  },
  {
   "cell_type": "code",
   "execution_count": null,
   "metadata": {
    "slideshow": {
     "slide_type": "fragment"
    },
    "pycharm": {
     "name": "#%%\n"
    }
   },
   "outputs": [],
   "source": [
    "# Access elements at a particular index\n",
    "numbers[0] # => 2\n",
    "numbers[-1] # => 11"
   ]
  },
  {
   "cell_type": "code",
   "execution_count": null,
   "metadata": {
    "slideshow": {
     "slide_type": "fragment"
    },
    "pycharm": {
     "name": "#%%\n"
    }
   },
   "outputs": [],
   "source": [
    "# You can also slice lists - the usual rules apply\n",
    "letters[:3] # => ['a', 'b', 'c']\n",
    "numbers[1:-1] # => [3, 5, 7]"
   ]
  },
  {
   "cell_type": "code",
   "execution_count": null,
   "metadata": {
    "slideshow": {
     "slide_type": "subslide"
    },
    "pycharm": {
     "name": "#%%\n"
    }
   },
   "outputs": [],
   "source": [
    "# Nested lists\n",
    "#\n",
    "# Lists really can contain anything - even other lists!\n",
    "x = [letters, numbers]\n",
    "x # => [['a', 'b', 'c', 'd'], [2, 3, 5, 7, 11]]\n",
    "x[0] # => ['a', 'b', 'c', 'd']\n",
    "x[0][1] # => 'b'\n",
    "x[1][2:] # => [5, 7, 11]"
   ]
  },
  {
   "cell_type": "markdown",
   "metadata": {
    "slideshow": {
     "slide_type": "subslide"
    },
    "pycharm": {
     "name": "#%% md\n"
    }
   },
   "source": [
    "Methods reference"
   ]
  },
  {
   "cell_type": "code",
   "execution_count": null,
   "metadata": {
    "slideshow": {
     "slide_type": "subslide"
    },
    "pycharm": {
     "name": "#%%\n"
    }
   },
   "outputs": [],
   "source": [
    "# Extend list by appending elements from the iterable\n",
    "my_list.extend(iterable)\n",
    "# Insert object before index\n",
    "my_list.insert(index, object)\n",
    "# Remove first occurrence of value, or raise ValueError\n",
    "my_list.remove(value)\n",
    "# Remove all items\n",
    "my_list.clear()"
   ]
  },
  {
   "cell_type": "code",
   "execution_count": null,
   "metadata": {
    "slideshow": {
     "slide_type": "subslide"
    },
    "pycharm": {
     "name": "#%%\n"
    }
   },
   "outputs": [],
   "source": [
    "# Return number of occurrences of value\n",
    "my_list.count(value)\n",
    "# Return first index of value, or raise ValueError\n",
    "my_list.index(value, [start, [stop]])\n",
    "# Remove, return item at index (def. last) or IndexError\n",
    "my_list.pop([index])\n",
    "# Stable sort *in place*\n",
    "my_list.sort(key=None, reverse=False)\n",
    "# Reverse *in place*.\n",
    "my_list.reverse()"
   ]
  },
  {
   "cell_type": "code",
   "execution_count": null,
   "metadata": {
    "slideshow": {
     "slide_type": "subslide"
    },
    "pycharm": {
     "name": "#%%\n"
    }
   },
   "outputs": [],
   "source": [
    "# Length (len)\n",
    "len([]) # => 0\n",
    "len(\"python\") # => 6\n",
    "len([4,5,\"seconds\"]) # => 3"
   ]
  },
  {
   "cell_type": "code",
   "execution_count": null,
   "metadata": {
    "slideshow": {
     "slide_type": "fragment"
    },
    "pycharm": {
     "name": "#%%\n"
    }
   },
   "outputs": [],
   "source": [
    "# Membership (in)\n",
    "0 in [] # => False\n",
    "'y' in 'python' # => True\n",
    "'minutes' in [4, 5, 'seconds'] # => False"
   ]
  },
  {
   "cell_type": "markdown",
   "metadata": {
    "slideshow": {
     "slide_type": "slide"
    },
    "pycharm": {
     "name": "#%% md\n"
    }
   },
   "source": [
    "### 2. Dictionary"
   ]
  },
  {
   "cell_type": "markdown",
   "metadata": {
    "slideshow": {
     "slide_type": "fragment"
    },
    "pycharm": {
     "name": "#%% md\n"
    }
   },
   "source": [
    "> Mutable map from hashable values to arbitrary objects"
   ]
  },
  {
   "cell_type": "markdown",
   "metadata": {
    "slideshow": {
     "slide_type": "fragment"
    },
    "pycharm": {
     "name": "#%% md\n"
    }
   },
   "source": [
    "Keys can be a variety of types, as long as they are hashable. Values can be a variety of types too."
   ]
  },
  {
   "cell_type": "code",
   "execution_count": 6,
   "metadata": {
    "slideshow": {
     "slide_type": "subslide"
    },
    "pycharm": {
     "name": "#%%\n"
    }
   },
   "outputs": [
    {
     "data": {
      "text/plain": [
       "True"
      ]
     },
     "execution_count": 6,
     "metadata": {},
     "output_type": "execute_result"
    }
   ],
   "source": [
    "empty = {}\n",
    "type(empty) # => dict\n",
    "empty == dict() # => True"
   ]
  },
  {
   "cell_type": "code",
   "execution_count": 9,
   "metadata": {
    "slideshow": {
     "slide_type": "fragment"
    },
    "pycharm": {
     "name": "#%%\n"
    }
   },
   "outputs": [
    {
     "data": {
      "text/plain": [
       "True"
      ]
     },
     "execution_count": 9,
     "metadata": {},
     "output_type": "execute_result"
    }
   ],
   "source": [
    "a = dict(one=1, two=2, three=3)\n",
    "b = {\"one\": 1, \"two\": 2, \"three\": 3}\n",
    "a == b # => True"
   ]
  },
  {
   "cell_type": "code",
   "execution_count": null,
   "metadata": {
    "slideshow": {
     "slide_type": "subslide"
    },
    "pycharm": {
     "name": "#%%\n"
    }
   },
   "outputs": [],
   "source": [
    "b = {\"one\": 1, \"two\": 2, \"three\": 3}\n",
    "\n",
    "# Get\n",
    "d['one'] # => 1\n",
    "d['five'] # raises KeyError\n",
    "\n",
    "# Set\n",
    "d['two'] = 22 # Modify an existing key\n",
    "d['four'] = 4 # Add a new key"
   ]
  },
  {
   "cell_type": "code",
   "execution_count": null,
   "metadata": {
    "slideshow": {
     "slide_type": "subslide"
    },
    "pycharm": {
     "name": "#%%\n"
    }
   },
   "outputs": [],
   "source": [
    "d = {\"CS\":[106, 107, 110], \"MATH\": [51, 113]}\n",
    "\n",
    "d[\"COMPSCI\"] # raises KeyError\n",
    "\n",
    "# Use get() method to avoid the KeyError\n",
    "d.get(\"CS\") # => [106, 107, 110]\n",
    "d.get(\"PHIL\") # => None (not a KeyError!)\n",
    "\n",
    "english_classes = d.get(\"ENGLISH\", [])\n",
    "num_english = len(english_classes)"
   ]
  },
  {
   "cell_type": "code",
   "execution_count": null,
   "metadata": {
    "slideshow": {
     "slide_type": "subslide"
    },
    "pycharm": {
     "name": "#%%\n"
    }
   },
   "outputs": [],
   "source": [
    "d = {\"one\": 1, \"two\": 2, \"three\": 3}\n",
    "\n",
    "#Raises KeyError if invalid key\n",
    "del d[\"one\"]\n",
    "\n",
    "#Remove and return d['three'] or default value if not in the map\n",
    "d.pop(\"three\", default) # => 3\n",
    "\n",
    "# Remove and return an arbitrary (key, value) pair. Useful for destructive iteration\n",
    "d.popitem() # => (\"two\", 2)"
   ]
  },
  {
   "cell_type": "code",
   "execution_count": null,
   "metadata": {
    "slideshow": {
     "slide_type": "subslide"
    },
    "pycharm": {
     "name": "#%%\n"
    }
   },
   "outputs": [],
   "source": [
    "d = {\"one\": 1, \"two\": 2, \"three\": 3}\n",
    "\n",
    "# These dictionary views are dynamic, reflecting changes in the underlying dictionary!\n",
    "d.keys()\n",
    "d.values()\n",
    "d.items()\n",
    "\n",
    "('one', 1) in d.items()"
   ]
  },
  {
   "cell_type": "code",
   "execution_count": null,
   "metadata": {
    "slideshow": {
     "slide_type": "subslide"
    },
    "pycharm": {
     "name": "#%%\n"
    }
   },
   "outputs": [],
   "source": [
    "len(d)\n",
    "\n",
    "key in d # equiv. to `key in d.keys()`\n",
    "\n",
    "value in d.values()\n",
    "\n",
    "d.copy()\n",
    "d.clear()\n",
    "\n",
    "for key in d: # equiv. to `for key in d.keys():`\n",
    "    print(key)\n",
    "    \n",
    "    \n",
    "for k, v in d.items()\n",
    "    print(k, ': ', v)"
   ]
  },
  {
   "cell_type": "markdown",
   "metadata": {
    "collapsed": true,
    "slideshow": {
     "slide_type": "slide"
    },
    "pycharm": {
     "name": "#%% md\n"
    }
   },
   "source": [
    "### 3. Tuples"
   ]
  },
  {
   "cell_type": "markdown",
   "metadata": {
    "slideshow": {
     "slide_type": "fragment"
    },
    "pycharm": {
     "name": "#%% md\n"
    }
   },
   "source": [
    "> Immutable Sequences\n",
    ">\n",
    "> To:\n",
    "> 1. Store collections of heterogeneous data\n",
    "> 2. \"Freeze\" sequence to ensure hashability\n",
    "> 3. Enforce immutability for fixed-size collections"
   ]
  },
  {
   "cell_type": "code",
   "execution_count": null,
   "metadata": {
    "slideshow": {
     "slide_type": "subslide"
    },
    "pycharm": {
     "name": "#%%\n"
    }
   },
   "outputs": [],
   "source": [
    "fish = (1, 2, \"red\", \"blue\")\n",
    "fish[0] # => 1\n",
    "fish[0] = 7 # Raises a TypeError"
   ]
  },
  {
   "cell_type": "code",
   "execution_count": null,
   "metadata": {
    "slideshow": {
     "slide_type": "fragment"
    },
    "pycharm": {
     "name": "#%%\n"
    }
   },
   "outputs": [],
   "source": [
    "len(fish) # => 4\n",
    "fish[:2] # => (1, 2)\n",
    "\"red\" in fish # => True"
   ]
  },
  {
   "cell_type": "markdown",
   "metadata": {
    "slideshow": {
     "slide_type": "subslide"
    },
    "pycharm": {
     "name": "#%% md\n"
    }
   },
   "source": [
    "#### Argument Packing and Unpacking"
   ]
  },
  {
   "cell_type": "code",
   "execution_count": null,
   "metadata": {
    "slideshow": {
     "slide_type": "fragment"
    },
    "pycharm": {
     "name": "#%%\n"
    }
   },
   "outputs": [],
   "source": [
    "# Comma-separated Rvalues are converted to a tuple\n",
    "t = 12345, 54321, 'hello!'\n",
    "print(t) # (12345, 54321, 'hello!')\n",
    "type(t) # => tuple"
   ]
  },
  {
   "cell_type": "code",
   "execution_count": null,
   "metadata": {
    "slideshow": {
     "slide_type": "fragment"
    },
    "pycharm": {
     "name": "#%%\n"
    }
   },
   "outputs": [],
   "source": [
    "# Comma-separated Lvalues are unpacked automatically\n",
    "x, y, z = t\n",
    "x # => 12345\n",
    "y # => 54321\n",
    "z # => 'hello!'"
   ]
  },
  {
   "cell_type": "code",
   "execution_count": null,
   "metadata": {
    "slideshow": {
     "slide_type": "subslide"
    },
    "pycharm": {
     "name": "#%%\n"
    }
   },
   "outputs": [],
   "source": [
    "for index, color in enumerate(['red','green','blue']):\n",
    "    print(index, color)\n",
    "    \n",
    "# =>\n",
    "# 0 red\n",
    "# 1 green\n",
    "# 2 blue\n",
    "\n",
    "# SOOOOoooooo:\n",
    "#This also means you should almost never use\n",
    "for i in range(len(sequence)):\n",
    "    pass"
   ]
  },
  {
   "cell_type": "markdown",
   "metadata": {
    "slideshow": {
     "slide_type": "subslide"
    },
    "pycharm": {
     "name": "#%% md\n"
    }
   },
   "source": [
    "> Tuples contain (immutable) references to underlying objects!"
   ]
  },
  {
   "cell_type": "code",
   "execution_count": null,
   "metadata": {
    "slideshow": {
     "slide_type": "fragment"
    },
    "pycharm": {
     "name": "#%%\n"
    }
   },
   "outputs": [],
   "source": [
    "v = ([1, 2, 3], ['a', 'b', 'c'])\n",
    "v[0].append(4)\n",
    "v # => ([1, 2, 3, 4], ['a', 'b', 'c'])"
   ]
  },
  {
   "cell_type": "markdown",
   "metadata": {
    "slideshow": {
     "slide_type": "subslide"
    },
    "pycharm": {
     "name": "#%% md\n"
    }
   },
   "source": [
    "A special problem is the construction of tuples containing 0 or 1 items: the syntax has some extra quirks to accommodate these. Empty tuples are constructed by an empty pair of parentheses; a tuple with one item is constructed by following a value with a comma (it is not sufficient to enclose a single value in parentheses). Ugly, but effective. For example:"
   ]
  },
  {
   "cell_type": "code",
   "execution_count": 5,
   "metadata": {
    "pycharm": {
     "name": "#%%\n"
    }
   },
   "outputs": [
    {
     "name": "stdout",
     "output_type": "stream",
     "text": [
      "('ww',) 1 <class 'tuple'>\n"
     ]
    }
   ],
   "source": [
    "r = (\"ww\", )\n",
    "print(r, len(r), type(r))"
   ]
  },
  {
   "cell_type": "code",
   "execution_count": null,
   "metadata": {
    "slideshow": {
     "slide_type": "fragment"
    },
    "pycharm": {
     "name": "#%%\n"
    }
   },
   "outputs": [],
   "source": [
    ">>> empty = ()\n",
    ">>> singleton = 'hello',    # <-- note trailing comma\n",
    ">>> len(empty)\n",
    "0\n",
    ">>> len(singleton)\n",
    "1\n",
    ">>> singleton\n",
    "('hello',)"
   ]
  },
  {
   "cell_type": "markdown",
   "metadata": {
    "slideshow": {
     "slide_type": "slide"
    },
    "pycharm": {
     "name": "#%% md\n"
    }
   },
   "source": [
    "### 4. Sets"
   ]
  },
  {
   "cell_type": "markdown",
   "metadata": {
    "slideshow": {
     "slide_type": "fragment"
    },
    "pycharm": {
     "name": "#%% md\n"
    }
   },
   "source": [
    "> Unordered collection of distinct hashable elements\n",
    ">\n",
    "> To:\n",
    "> 1. Fast membership testing: O(1) vs. O(n)\n",
    "> 2. Eliminate duplicate entries\n",
    "> 3. Easy set operations (intersection, union, etc.)"
   ]
  },
  {
   "cell_type": "code",
   "execution_count": 6,
   "metadata": {
    "slideshow": {
     "slide_type": "fragment"
    },
    "pycharm": {
     "name": "#%%\n"
    }
   },
   "outputs": [],
   "source": [
    "s = {1, 2, 3}"
   ]
  },
  {
   "cell_type": "code",
   "execution_count": null,
   "metadata": {
    "slideshow": {
     "slide_type": "subslide"
    },
    "pycharm": {
     "name": "#%%\n"
    }
   },
   "outputs": [],
   "source": [
    "empty_set = set()\n",
    "set_from_list = set([1, 2, 1, 4, 3]) # => {1, 3, 4, 2}\n",
    "\n",
    "basket = {\"apple\", \"orange\", \"apple\", \"pear\", \"banana\"}\n",
    "len(basket) # => 4\n",
    "\n",
    "\"orange\" in basket # => True\n",
    "\"crabgrass\" in basket # => False\n",
    "\n",
    "for fruit in basket:\n",
    "    print(fruit, end='/')\n",
    "# => pear/banana/apple/orange/"
   ]
  },
  {
   "cell_type": "code",
   "execution_count": null,
   "metadata": {
    "slideshow": {
     "slide_type": "subslide"
    },
    "pycharm": {
     "name": "#%%\n"
    }
   },
   "outputs": [],
   "source": [
    "a = set(\"mississippi\") # {'i', 'm', 'p', 's'}\n",
    "\n",
    "a.add('r')\n",
    "a.remove('m') # raises KeyError if 'm' is not present\n",
    "a.discard('x') # same as remove, except no error\n",
    "\n",
    "a.pop() # => 's' (or 'i' or 'p')\n",
    "\n",
    "a.clear()\n",
    "\n",
    "len(a) # => 0"
   ]
  },
  {
   "cell_type": "code",
   "execution_count": null,
   "metadata": {
    "slideshow": {
     "slide_type": "subslide"
    },
    "pycharm": {
     "name": "#%%\n"
    }
   },
   "outputs": [],
   "source": [
    "a = set(\"abracadabra\") # {'a', 'r', 'b', 'c', 'd'}\n",
    "b = set(\"alacazam\") # {'a', 'm', 'c', 'l', 'z'}\n",
    "\n",
    "# Set difference\n",
    "a - b # => {'r', 'd', 'b'}\n",
    "\n",
    "# Union\n",
    "a | b # => {'a', 'c', 'r', 'd', 'b', 'm', 'z', 'l'}\n",
    "\n",
    "# Intersection\n",
    "a & b # => {'a', 'c'}\n",
    "\n",
    "# Symmetric Difference\n",
    "a ^ b # => {'r', 'd', 'b', 'm', 'z', 'l'}"
   ]
  },
  {
   "cell_type": "markdown",
   "metadata": {
    "slideshow": {
     "slide_type": "subslide"
    },
    "pycharm": {
     "name": "#%% md\n"
    }
   },
   "source": [
    "> goto opt02 :) part 2"
   ]
  },
  {
   "cell_type": "markdown",
   "metadata": {
    "slideshow": {
     "slide_type": "slide"
    },
    "pycharm": {
     "name": "#%% md\n"
    }
   },
   "source": [
    "### Loops"
   ]
  },
  {
   "cell_type": "markdown",
   "metadata": {
    "slideshow": {
     "slide_type": "subslide"
    },
    "pycharm": {
     "name": "#%% md\n"
    }
   },
   "source": [
    "#### Items in Dictionary"
   ]
  },
  {
   "cell_type": "code",
   "execution_count": null,
   "metadata": {
    "slideshow": {
     "slide_type": "fragment"
    },
    "pycharm": {
     "name": "#%%\n"
    }
   },
   "outputs": [],
   "source": [
    "knights = {'gallahad': 'the pure', 'robin': 'the brave'}\n",
    "\n",
    "for k, v in knights.items():\n",
    "    print(k, v)\n",
    "\n",
    "# =>\n",
    "# gallahad the pure\n",
    "# robin the brave"
   ]
  },
  {
   "cell_type": "markdown",
   "metadata": {
    "slideshow": {
     "slide_type": "subslide"
    },
    "pycharm": {
     "name": "#%% md\n"
    }
   },
   "source": [
    "#### zip"
   ]
  },
  {
   "cell_type": "code",
   "execution_count": 9,
   "metadata": {
    "slideshow": {
     "slide_type": "fragment"
    },
    "pycharm": {
     "name": "#%%\n"
    }
   },
   "outputs": [
    {
     "name": "stdout",
     "output_type": "stream",
     "text": [
      "What is your name? Lancelot.\n",
      "What is your quest? To seek the holy grail.\n",
      "What is your favorite color? Blue.\n"
     ]
    }
   ],
   "source": [
    "questions = ['name', 'quest', 'favorite color', 'BAD']\n",
    "answers = ['Lancelot', 'To seek the holy grail', 'Blue']\n",
    "\n",
    "for q, a in zip(questions, answers):\n",
    "    print('What is your {0}? {1}.'.format(q, a))\n",
    "\n",
    "# =>\n",
    "# What is your name? Lancelot.\n",
    "# What is your quest? To seek the holy grail.\n",
    "# What is your favorite color? Blue."
   ]
  },
  {
   "cell_type": "markdown",
   "metadata": {
    "slideshow": {
     "slide_type": "fragment"
    },
    "pycharm": {
     "name": "#%% md\n"
    }
   },
   "source": [
    "The zip() function generates pairs of entries from its arguments."
   ]
  },
  {
   "cell_type": "code",
   "execution_count": 12,
   "metadata": {
    "pycharm": {
     "name": "#%%\n"
    }
   },
   "outputs": [
    {
     "name": "stdout",
     "output_type": "stream",
     "text": [
      "('Aston', 'Audi', 'McLaren')\n",
      "('GPS', 'Car Repair', 'Dolby sound kit')\n"
     ]
    }
   ],
   "source": [
    "# Unzip lists \n",
    "l1,l2 = zip(*[('Aston', 'GPS'),  \n",
    "              ('Audi', 'Car Repair'),  \n",
    "              ('McLaren', 'Dolby sound kit')  \n",
    "           ]) \n",
    "# Printing unzipped lists       \n",
    "print(l1) \n",
    "print(l2) "
   ]
  },
  {
   "cell_type": "markdown",
   "metadata": {
    "slideshow": {
     "slide_type": "subslide"
    },
    "pycharm": {
     "name": "#%% md\n"
    }
   },
   "source": [
    "#### Reverse Iteration"
   ]
  },
  {
   "cell_type": "code",
   "execution_count": 10,
   "metadata": {
    "slideshow": {
     "slide_type": "fragment"
    },
    "pycharm": {
     "name": "#%%\n"
    }
   },
   "outputs": [
    {
     "name": "stdout",
     "output_type": "stream",
     "text": [
      "9, 7, 5, 3, 1, "
     ]
    }
   ],
   "source": [
    "for i in reversed(range(1, 10, 2)):\n",
    "    print(i, end=', ')\n",
    "# =>\n",
    "# 9, 7, 5, 3, 1,"
   ]
  },
  {
   "cell_type": "markdown",
   "metadata": {
    "slideshow": {
     "slide_type": "subslide"
    },
    "pycharm": {
     "name": "#%% md\n"
    }
   },
   "source": [
    "#### Sorted Iteration"
   ]
  },
  {
   "cell_type": "code",
   "execution_count": 13,
   "metadata": {
    "slideshow": {
     "slide_type": "fragment"
    },
    "pycharm": {
     "name": "#%%\n"
    }
   },
   "outputs": [
    {
     "name": "stdout",
     "output_type": "stream",
     "text": [
      "apple\n",
      "banana\n",
      "orange\n",
      "pear\n",
      "pear\n"
     ]
    }
   ],
   "source": [
    "basket = ['pear', 'banana', 'orange', 'pear', 'apple']\n",
    "\n",
    "for fruit in sorted(basket):\n",
    "    print(fruit)\n",
    "\n",
    "# =>\n",
    "# apple\n",
    "# banana\n",
    "# orange\n",
    "# pear\n",
    "# pear"
   ]
  },
  {
   "cell_type": "markdown",
   "metadata": {
    "slideshow": {
     "slide_type": "fragment"
    },
    "pycharm": {
     "name": "#%% md\n"
    }
   },
   "source": [
    "To loop over a sequence in sorted order, use the sorted() function which returns a new sorted list while leaving the source unaltered."
   ]
  },
  {
   "cell_type": "markdown",
   "metadata": {
    "slideshow": {
     "slide_type": "slide"
    },
    "pycharm": {
     "name": "#%% md\n"
    }
   },
   "source": [
    "### Comprehensions"
   ]
  },
  {
   "cell_type": "markdown",
   "metadata": {
    "slideshow": {
     "slide_type": "subslide"
    },
    "pycharm": {
     "name": "#%% md\n"
    }
   },
   "source": [
    "**List comprehensions** provide a concise way to create lists. Common applications are to make new lists where each element is the result of some operations applied to each member of another sequence or iterable, or to create a subsequence of those elements that satisfy a certain condition."
   ]
  },
  {
   "cell_type": "code",
   "execution_count": 11,
   "metadata": {
    "slideshow": {
     "slide_type": "fragment"
    },
    "pycharm": {
     "name": "#%%\n"
    }
   },
   "outputs": [
    {
     "data": {
      "text/plain": "[0, 1, 4, 9, 16, 25, 36, 49, 64, 81]"
     },
     "execution_count": 11,
     "metadata": {},
     "output_type": "execute_result"
    }
   ],
   "source": [
    "squares = []\n",
    "for x in range(10):\n",
    "    squares.append(x**2)\n",
    "\n",
    "squares"
   ]
  },
  {
   "cell_type": "code",
   "execution_count": null,
   "metadata": {
    "slideshow": {
     "slide_type": "fragment"
    },
    "pycharm": {
     "name": "#%%\n"
    }
   },
   "outputs": [],
   "source": [
    "squares = [x**2 for x in range(10)]"
   ]
  },
  {
   "cell_type": "code",
   "execution_count": null,
   "metadata": {
    "slideshow": {
     "slide_type": "fragment"
    },
    "pycharm": {
     "name": "#%%\n"
    }
   },
   "outputs": [],
   "source": [
    "[f(xs) for xs in iter]\n",
    "# Loop over the specified iterable and apply some operation to generate new list elements"
   ]
  },
  {
   "cell_type": "code",
   "execution_count": null,
   "metadata": {
    "slideshow": {
     "slide_type": "fragment"
    },
    "pycharm": {
     "name": "#%%\n"
    }
   },
   "outputs": [],
   "source": [
    "[f(xs) for xs in iter if pred(xs)]\n",
    "# Only keep elements that satisfy a predicate condition"
   ]
  },
  {
   "cell_type": "code",
   "execution_count": 2,
   "metadata": {
    "slideshow": {
     "slide_type": "subslide"
    },
    "pycharm": {
     "name": "#%%\n"
    }
   },
   "outputs": [
    {
     "data": {
      "text/plain": [
       "[(1, 0),\n",
       " (2, 0),\n",
       " (2, 1),\n",
       " (3, 0),\n",
       " (3, 1),\n",
       " (3, 2),\n",
       " (4, 0),\n",
       " (4, 1),\n",
       " (4, 2),\n",
       " (4, 3)]"
      ]
     },
     "execution_count": 2,
     "metadata": {},
     "output_type": "execute_result"
    }
   ],
   "source": [
    "# [word.lower() for word in sentence]\n",
    "\n",
    "# [word for word in sentence if len(word) > 8]\n",
    "\n",
    "[(x, x ** 2, x ** 3) for x in range(10)]\n",
    "\n",
    "[(i,j) for i in range(5) for j in range(i)]"
   ]
  },
  {
   "cell_type": "code",
   "execution_count": 10,
   "metadata": {
    "slideshow": {
     "slide_type": "subslide"
    },
    "pycharm": {
     "name": "#%%\n"
    }
   },
   "outputs": [
    {
     "data": {
      "text/plain": [
       "[(3, 0), (3, 1), (3, 2), (4, 0), (4, 1), (4, 2), (4, 3)]"
      ]
     },
     "execution_count": 10,
     "metadata": {},
     "output_type": "execute_result"
    }
   ],
   "source": [
    "[(i,j) for i in range(5) if i >2 for j in range(i) ]"
   ]
  },
  {
   "cell_type": "code",
   "execution_count": 3,
   "metadata": {
    "slideshow": {
     "slide_type": "subslide"
    },
    "pycharm": {
     "name": "#%%\n"
    }
   },
   "outputs": [
    {
     "data": {
      "text/plain": [
       "[(1, 3), (1, 4), (2, 3), (2, 1), (2, 4), (3, 1), (3, 4)]"
      ]
     },
     "execution_count": 3,
     "metadata": {},
     "output_type": "execute_result"
    }
   ],
   "source": [
    "[(x, y) for x in [1,2,3] for y in [3,1,4] if x != y]"
   ]
  },
  {
   "cell_type": "markdown",
   "metadata": {
    "slideshow": {
     "slide_type": "fragment"
    },
    "pycharm": {
     "name": "#%% md\n"
    }
   },
   "source": [
    "it’s equivalent to"
   ]
  },
  {
   "cell_type": "code",
   "execution_count": null,
   "metadata": {
    "slideshow": {
     "slide_type": "fragment"
    },
    "pycharm": {
     "name": "#%%\n"
    }
   },
   "outputs": [],
   "source": [
    "combs = []\n",
    "for x in [1,2,3]:\n",
    "    for y in [3,1,4]:\n",
    "        if x != y:\n",
    "            combs.append((x, y))\n",
    "combs"
   ]
  },
  {
   "cell_type": "code",
   "execution_count": null,
   "metadata": {
    "slideshow": {
     "slide_type": "subslide"
    },
    "pycharm": {
     "name": "#%%\n"
    }
   },
   "outputs": [],
   "source": [
    "# Dictionary Comprehensions\n",
    "{key_func(vars):val_func(vars) for vars in iterable}\n",
    "{v:k for k, v in d.items()}"
   ]
  },
  {
   "cell_type": "code",
   "execution_count": null,
   "metadata": {
    "slideshow": {
     "slide_type": "fragment"
    },
    "pycharm": {
     "name": "#%%\n"
    }
   },
   "outputs": [],
   "source": [
    "# Set Comprehensions\n",
    "{func(vars) for vars in iterable}\n",
    "{word for word in hamlet if is_palindrome(word.lower())}"
   ]
  },
  {
   "cell_type": "code",
   "execution_count": 22,
   "metadata": {
    "slideshow": {
     "slide_type": "subslide"
    },
    "pycharm": {
     "name": "#%%\n"
    }
   },
   "outputs": [
    {
     "data": {
      "text/plain": [
       "True"
      ]
     },
     "execution_count": 22,
     "metadata": {},
     "output_type": "execute_result"
    }
   ],
   "source": [
    "# (1, 2, 3)              < (1, 2, 4)                    # True\n",
    "# [1, 2, 3]              < [1, 2, 4]\n",
    "# 'ABC' < 'C' < 'Pascal' < 'Python'\n",
    "# (1, 2, 3, 4)           < (1, 2, 4)\n",
    "# (1, 2)                 < (1, 2, -1)\n",
    "# (1, 2, 3)             == (1.0, 2.0, 3.0)\n",
    "# (1, 2, ('aa', 'ab'))   < (1, 2, ('abc', 'a'), 4)"
   ]
  },
  {
   "cell_type": "markdown",
   "metadata": {
    "slideshow": {
     "slide_type": "fragment"
    },
    "pycharm": {
     "name": "#%% md\n"
    }
   },
   "source": [
    "Sequence objects may be compared to other objects with the same sequence type. The comparison uses lexicographical ordering: first the first two items are compared, and if they differ this determines the outcome of the comparison; if not, the next two items are compared, and so on..."
   ]
  },
  {
   "cell_type": "markdown",
   "metadata": {
    "slideshow": {
     "slide_type": "slide"
    },
    "pycharm": {
     "name": "#%% md\n"
    }
   },
   "source": [
    "## Time complexity???"
   ]
  },
  {
   "cell_type": "markdown",
   "metadata": {
    "slideshow": {
     "slide_type": "fragment"
    },
    "pycharm": {
     "name": "#%% md\n"
    }
   },
   "source": [
    "[https://wiki.python.org/moin/TimeComplexity](https://wiki.python.org/moin/TimeComplexity)"
   ]
  },
  {
   "cell_type": "markdown",
   "metadata": {
    "slideshow": {
     "slide_type": "slide"
    },
    "pycharm": {
     "name": "#%% md\n"
    }
   },
   "source": [
    "Source\n",
    "1. [http://treyhunner.com/2015/12/python-list-comprehensions-now-in-color/](http://treyhunner.com/2015/12/python-list-comprehensions-now-in-color/)\n"
   ]
  },
  {
   "cell_type": "markdown",
   "metadata": {
    "slideshow": {
     "slide_type": "slide"
    },
    "pycharm": {
     "name": "#%% md\n"
    }
   },
   "source": [
    "## Is it really fast??"
   ]
  },
  {
   "cell_type": "code",
   "execution_count": 12,
   "metadata": {
    "slideshow": {
     "slide_type": "subslide"
    },
    "pycharm": {
     "name": "#%%\n"
    }
   },
   "outputs": [],
   "source": [
    "# https://codereview.stackexchange.com/questions/23441/are-these-list-comprehensions-written-the-fastest-possible-way\n",
    "import numpy as np\n",
    "import sys\n",
    "from datetime import datetime, timedelta\n",
    "import numpy\n",
    "from tqdm import tqdm\n",
    "import matplotlib.pyplot as pyplot\n",
    "pyplot.rcParams['figure.figsize'] = [10, 5]\n",
    "%matplotlib notebook\n",
    "\n",
    "def doingnothing(n):\n",
    "    for i in range(n):\n",
    "        pass\n",
    "    return []\n",
    "\n",
    "def numpysum(n): #NPY\n",
    "    a = numpy.arange(n) ** 2.\n",
    "    b = numpy.arange(n) ** 3.\n",
    "    c = a + b\n",
    "    return c\n",
    "\n",
    "def listexpression(n):  #LE\n",
    "    #return [x**2+x**3 for x in range(n)]\n",
    "    return [x*x+x*x*x for x in range(n)]\n",
    "\n",
    "def dictcomprehension(n):  #DC\n",
    "    # a = {x:x**2+x**3 for x in range(n)}\n",
    "    a = {x:x*x+x*x*x for x in range(n)}\n",
    "    # return [a[key] for key in a]\n",
    "    return list(a.values())\n",
    "\n",
    "def pythonsum(n): #PS\n",
    "#     a = list(range(n))\n",
    "#     b = list(range(n))\n",
    "    c = []\n",
    "    \n",
    "    for i in range(n):\n",
    "        c.append(i**2 + i**3)\n",
    "\n",
    "#     for i in range(len(a)):\n",
    "#             # a[i] = i ** 2.\n",
    "#             a[i] = i * i \n",
    "#             # b[i] = i ** 3.\n",
    "#             b[i] = i * i * i\n",
    "#             c.append(a[i] + b[i])\n",
    "    return c\n",
    "\n",
    "def runtimetest(size,verbose=True,it=5):\n",
    "    v = verbose\n",
    "    d = {'DoingNothing':None,\n",
    "         'NPY':None,\n",
    "         'LE':None,\n",
    "         'DC':None,\n",
    "         'PS':None}\n",
    "\n",
    "    val = []\n",
    "    for i in range(it):\n",
    "        start = datetime.now()\n",
    "        c = doingnothing(size)\n",
    "        val.append(datetime.now() - start)\n",
    "    d['DoingNothing'] = sum(val, timedelta(0)) / len(val)\n",
    "\n",
    "    val = []\n",
    "    for i in range(it):\n",
    "        start = datetime.now()\n",
    "        c = numpysum(size)\n",
    "        val.append(datetime.now() - start)\n",
    "    d['NPY'] = sum(val, timedelta(0)) / len(val)\n",
    "\n",
    "    val = []\n",
    "    for i in range(it):\n",
    "        start = datetime.now()\n",
    "        c = listexpression(size)\n",
    "        val.append(datetime.now() - start)\n",
    "    d['LE'] = sum(val, timedelta(0)) / len(val)\n",
    "\n",
    "    val = []\n",
    "    for i in range(it):\n",
    "        start = datetime.now()\n",
    "        c = dictcomprehension(size)\n",
    "        val.append(datetime.now() - start)\n",
    "    d['DC'] = sum(val, timedelta(0)) / len(val)\n",
    "    \n",
    "    val = []\n",
    "    for i in range(it):\n",
    "        start = datetime.now()\n",
    "        c = pythonsum(size)\n",
    "        val.append(datetime.now() - start)\n",
    "    d['PS'] = sum(val, timedelta(0)) / len(val)\n",
    "        \n",
    "    return d\n",
    "\n",
    "def view(results):\n",
    "    \"\"\"\n",
    "    result['header']=['DoingNothing','NPY','LE','DC','PS']\n",
    "    result[3000]=[0.0, 0.0, 0.002, 0.003, 0.003001] \n",
    "    \"\"\"\n",
    "    if 'header' in results.keys():\n",
    "        results.pop('header')\n",
    "\n",
    "    steps,DN,NPY,LE,DC,PS=[],[],[],[],[],[] #I love multiple assignment!\n",
    "#     import pprint\n",
    "#     pprint.pprint(results)\n",
    "    for step in sorted(results):\n",
    "        steps.append(step)\n",
    "        DN.append(results[step][0])\n",
    "        NPY.append(results[step][1])\n",
    "        LE.append(results[step][2])\n",
    "        DC.append(results[step][3])\n",
    "        PS.append(results[step][4])\n",
    "\n",
    "    pyplot.plot(steps,DN)\n",
    "    pyplot.plot(steps,NPY)\n",
    "    pyplot.plot(steps,LE)\n",
    "    pyplot.plot(steps,DC)\n",
    "    pyplot.plot(steps,PS)\n",
    "    pyplot.legend(['Empty Loop', 'Numpy.Arange', 'List Comprehension', 'Dict Comprehension', 'Python for Loop'], loc='upper left')\n",
    "    scale = 'linear'\n",
    "    pyplot.xscale(scale)\n",
    "    pyplot.yscale(scale)\n",
    "    pyplot.title('runtime test')\n",
    "    pyplot.xlabel('length of list')\n",
    "    pyplot.ylabel('runtime in seconds')\n",
    "\n",
    "    pyplot.show()\n",
    "\n",
    "def longruntimetest(length, it):\n",
    "    if length<10**4:\n",
    "        length=10**4\n",
    "\n",
    "    result = {}\n",
    "    result['header']=['DoingNothing','NPY','LE','DC','PS']\n",
    "    for step in tqdm(range(10**3, length+1,10**3)):\n",
    "#         print(step)\n",
    "        t=runtimetest(step,verbose=False, it=it)        \n",
    "        result[step]=[t['DoingNothing'],t['NPY'],t['LE'],t['DC'],t['PS']]\n",
    "        for i in range(len(result[step])):\n",
    "            result[step][i]=round(result[step][i].seconds\n",
    "                                  +result[step][i].microseconds/10**6,6)\n",
    "\n",
    "    return result\n"
   ]
  },
  {
   "cell_type": "code",
   "execution_count": 24,
   "metadata": {
    "slideshow": {
     "slide_type": "subslide"
    },
    "pycharm": {
     "name": "#%%\n"
    }
   },
   "outputs": [],
   "source": [
    "testsize=10**4"
   ]
  },
  {
   "cell_type": "code",
   "execution_count": 15,
   "metadata": {
    "scrolled": true,
    "slideshow": {
     "slide_type": "fragment"
    },
    "pycharm": {
     "name": "#%%\n"
    }
   },
   "outputs": [
    {
     "name": "stderr",
     "output_type": "stream",
     "text": [
      "100%|██████████████████████████████████████████████████████████████████████████████████████████████████████████████████████████████████████████████████████████████████████████████████████████████████████████████████████████████████████████████████████████████████████████████████| 10/10 [00:02<00:00,  4.90it/s]\n"
     ]
    }
   ],
   "source": [
    "result = longruntimetest(testsize, 20)"
   ]
  },
  {
   "cell_type": "code",
   "execution_count": 16,
   "metadata": {
    "scrolled": true,
    "pycharm": {
     "name": "#%%\n"
    }
   },
   "outputs": [
    {
     "data": {
      "application/javascript": [
       "/* Put everything inside the global mpl namespace */\n",
       "/* global mpl */\n",
       "window.mpl = {};\n",
       "\n",
       "mpl.get_websocket_type = function () {\n",
       "    if (typeof WebSocket !== 'undefined') {\n",
       "        return WebSocket;\n",
       "    } else if (typeof MozWebSocket !== 'undefined') {\n",
       "        return MozWebSocket;\n",
       "    } else {\n",
       "        alert(\n",
       "            'Your browser does not have WebSocket support. ' +\n",
       "                'Please try Chrome, Safari or Firefox ≥ 6. ' +\n",
       "                'Firefox 4 and 5 are also supported but you ' +\n",
       "                'have to enable WebSockets in about:config.'\n",
       "        );\n",
       "    }\n",
       "};\n",
       "\n",
       "mpl.figure = function (figure_id, websocket, ondownload, parent_element) {\n",
       "    this.id = figure_id;\n",
       "\n",
       "    this.ws = websocket;\n",
       "\n",
       "    this.supports_binary = this.ws.binaryType !== undefined;\n",
       "\n",
       "    if (!this.supports_binary) {\n",
       "        var warnings = document.getElementById('mpl-warnings');\n",
       "        if (warnings) {\n",
       "            warnings.style.display = 'block';\n",
       "            warnings.textContent =\n",
       "                'This browser does not support binary websocket messages. ' +\n",
       "                'Performance may be slow.';\n",
       "        }\n",
       "    }\n",
       "\n",
       "    this.imageObj = new Image();\n",
       "\n",
       "    this.context = undefined;\n",
       "    this.message = undefined;\n",
       "    this.canvas = undefined;\n",
       "    this.rubberband_canvas = undefined;\n",
       "    this.rubberband_context = undefined;\n",
       "    this.format_dropdown = undefined;\n",
       "\n",
       "    this.image_mode = 'full';\n",
       "\n",
       "    this.root = document.createElement('div');\n",
       "    this.root.setAttribute('style', 'display: inline-block');\n",
       "    this._root_extra_style(this.root);\n",
       "\n",
       "    parent_element.appendChild(this.root);\n",
       "\n",
       "    this._init_header(this);\n",
       "    this._init_canvas(this);\n",
       "    this._init_toolbar(this);\n",
       "\n",
       "    var fig = this;\n",
       "\n",
       "    this.waiting = false;\n",
       "\n",
       "    this.ws.onopen = function () {\n",
       "        fig.send_message('supports_binary', { value: fig.supports_binary });\n",
       "        fig.send_message('send_image_mode', {});\n",
       "        if (fig.ratio !== 1) {\n",
       "            fig.send_message('set_dpi_ratio', { dpi_ratio: fig.ratio });\n",
       "        }\n",
       "        fig.send_message('refresh', {});\n",
       "    };\n",
       "\n",
       "    this.imageObj.onload = function () {\n",
       "        if (fig.image_mode === 'full') {\n",
       "            // Full images could contain transparency (where diff images\n",
       "            // almost always do), so we need to clear the canvas so that\n",
       "            // there is no ghosting.\n",
       "            fig.context.clearRect(0, 0, fig.canvas.width, fig.canvas.height);\n",
       "        }\n",
       "        fig.context.drawImage(fig.imageObj, 0, 0);\n",
       "    };\n",
       "\n",
       "    this.imageObj.onunload = function () {\n",
       "        fig.ws.close();\n",
       "    };\n",
       "\n",
       "    this.ws.onmessage = this._make_on_message_function(this);\n",
       "\n",
       "    this.ondownload = ondownload;\n",
       "};\n",
       "\n",
       "mpl.figure.prototype._init_header = function () {\n",
       "    var titlebar = document.createElement('div');\n",
       "    titlebar.classList =\n",
       "        'ui-dialog-titlebar ui-widget-header ui-corner-all ui-helper-clearfix';\n",
       "    var titletext = document.createElement('div');\n",
       "    titletext.classList = 'ui-dialog-title';\n",
       "    titletext.setAttribute(\n",
       "        'style',\n",
       "        'width: 100%; text-align: center; padding: 3px;'\n",
       "    );\n",
       "    titlebar.appendChild(titletext);\n",
       "    this.root.appendChild(titlebar);\n",
       "    this.header = titletext;\n",
       "};\n",
       "\n",
       "mpl.figure.prototype._canvas_extra_style = function (_canvas_div) {};\n",
       "\n",
       "mpl.figure.prototype._root_extra_style = function (_canvas_div) {};\n",
       "\n",
       "mpl.figure.prototype._init_canvas = function () {\n",
       "    var fig = this;\n",
       "\n",
       "    var canvas_div = (this.canvas_div = document.createElement('div'));\n",
       "    canvas_div.setAttribute(\n",
       "        'style',\n",
       "        'border: 1px solid #ddd;' +\n",
       "            'box-sizing: content-box;' +\n",
       "            'clear: both;' +\n",
       "            'min-height: 1px;' +\n",
       "            'min-width: 1px;' +\n",
       "            'outline: 0;' +\n",
       "            'overflow: hidden;' +\n",
       "            'position: relative;' +\n",
       "            'resize: both;'\n",
       "    );\n",
       "\n",
       "    function on_keyboard_event_closure(name) {\n",
       "        return function (event) {\n",
       "            return fig.key_event(event, name);\n",
       "        };\n",
       "    }\n",
       "\n",
       "    canvas_div.addEventListener(\n",
       "        'keydown',\n",
       "        on_keyboard_event_closure('key_press')\n",
       "    );\n",
       "    canvas_div.addEventListener(\n",
       "        'keyup',\n",
       "        on_keyboard_event_closure('key_release')\n",
       "    );\n",
       "\n",
       "    this._canvas_extra_style(canvas_div);\n",
       "    this.root.appendChild(canvas_div);\n",
       "\n",
       "    var canvas = (this.canvas = document.createElement('canvas'));\n",
       "    canvas.classList.add('mpl-canvas');\n",
       "    canvas.setAttribute('style', 'box-sizing: content-box;');\n",
       "\n",
       "    this.context = canvas.getContext('2d');\n",
       "\n",
       "    var backingStore =\n",
       "        this.context.backingStorePixelRatio ||\n",
       "        this.context.webkitBackingStorePixelRatio ||\n",
       "        this.context.mozBackingStorePixelRatio ||\n",
       "        this.context.msBackingStorePixelRatio ||\n",
       "        this.context.oBackingStorePixelRatio ||\n",
       "        this.context.backingStorePixelRatio ||\n",
       "        1;\n",
       "\n",
       "    this.ratio = (window.devicePixelRatio || 1) / backingStore;\n",
       "    if (this.ratio !== 1) {\n",
       "        fig.send_message('set_dpi_ratio', { dpi_ratio: this.ratio });\n",
       "    }\n",
       "\n",
       "    var rubberband_canvas = (this.rubberband_canvas = document.createElement(\n",
       "        'canvas'\n",
       "    ));\n",
       "    rubberband_canvas.setAttribute(\n",
       "        'style',\n",
       "        'box-sizing: content-box; position: absolute; left: 0; top: 0; z-index: 1;'\n",
       "    );\n",
       "\n",
       "    var resizeObserver = new ResizeObserver(function (entries) {\n",
       "        var nentries = entries.length;\n",
       "        for (var i = 0; i < nentries; i++) {\n",
       "            var entry = entries[i];\n",
       "            var width, height;\n",
       "            if (entry.contentBoxSize) {\n",
       "                if (entry.contentBoxSize instanceof Array) {\n",
       "                    // Chrome 84 implements new version of spec.\n",
       "                    width = entry.contentBoxSize[0].inlineSize;\n",
       "                    height = entry.contentBoxSize[0].blockSize;\n",
       "                } else {\n",
       "                    // Firefox implements old version of spec.\n",
       "                    width = entry.contentBoxSize.inlineSize;\n",
       "                    height = entry.contentBoxSize.blockSize;\n",
       "                }\n",
       "            } else {\n",
       "                // Chrome <84 implements even older version of spec.\n",
       "                width = entry.contentRect.width;\n",
       "                height = entry.contentRect.height;\n",
       "            }\n",
       "\n",
       "            // Keep the size of the canvas and rubber band canvas in sync with\n",
       "            // the canvas container.\n",
       "            if (entry.devicePixelContentBoxSize) {\n",
       "                // Chrome 84 implements new version of spec.\n",
       "                canvas.setAttribute(\n",
       "                    'width',\n",
       "                    entry.devicePixelContentBoxSize[0].inlineSize\n",
       "                );\n",
       "                canvas.setAttribute(\n",
       "                    'height',\n",
       "                    entry.devicePixelContentBoxSize[0].blockSize\n",
       "                );\n",
       "            } else {\n",
       "                canvas.setAttribute('width', width * fig.ratio);\n",
       "                canvas.setAttribute('height', height * fig.ratio);\n",
       "            }\n",
       "            canvas.setAttribute(\n",
       "                'style',\n",
       "                'width: ' + width + 'px; height: ' + height + 'px;'\n",
       "            );\n",
       "\n",
       "            rubberband_canvas.setAttribute('width', width);\n",
       "            rubberband_canvas.setAttribute('height', height);\n",
       "\n",
       "            // And update the size in Python. We ignore the initial 0/0 size\n",
       "            // that occurs as the element is placed into the DOM, which should\n",
       "            // otherwise not happen due to the minimum size styling.\n",
       "            if (width != 0 && height != 0) {\n",
       "                fig.request_resize(width, height);\n",
       "            }\n",
       "        }\n",
       "    });\n",
       "    resizeObserver.observe(canvas_div);\n",
       "\n",
       "    function on_mouse_event_closure(name) {\n",
       "        return function (event) {\n",
       "            return fig.mouse_event(event, name);\n",
       "        };\n",
       "    }\n",
       "\n",
       "    rubberband_canvas.addEventListener(\n",
       "        'mousedown',\n",
       "        on_mouse_event_closure('button_press')\n",
       "    );\n",
       "    rubberband_canvas.addEventListener(\n",
       "        'mouseup',\n",
       "        on_mouse_event_closure('button_release')\n",
       "    );\n",
       "    // Throttle sequential mouse events to 1 every 20ms.\n",
       "    rubberband_canvas.addEventListener(\n",
       "        'mousemove',\n",
       "        on_mouse_event_closure('motion_notify')\n",
       "    );\n",
       "\n",
       "    rubberband_canvas.addEventListener(\n",
       "        'mouseenter',\n",
       "        on_mouse_event_closure('figure_enter')\n",
       "    );\n",
       "    rubberband_canvas.addEventListener(\n",
       "        'mouseleave',\n",
       "        on_mouse_event_closure('figure_leave')\n",
       "    );\n",
       "\n",
       "    canvas_div.addEventListener('wheel', function (event) {\n",
       "        if (event.deltaY < 0) {\n",
       "            event.step = 1;\n",
       "        } else {\n",
       "            event.step = -1;\n",
       "        }\n",
       "        on_mouse_event_closure('scroll')(event);\n",
       "    });\n",
       "\n",
       "    canvas_div.appendChild(canvas);\n",
       "    canvas_div.appendChild(rubberband_canvas);\n",
       "\n",
       "    this.rubberband_context = rubberband_canvas.getContext('2d');\n",
       "    this.rubberband_context.strokeStyle = '#000000';\n",
       "\n",
       "    this._resize_canvas = function (width, height, forward) {\n",
       "        if (forward) {\n",
       "            canvas_div.style.width = width + 'px';\n",
       "            canvas_div.style.height = height + 'px';\n",
       "        }\n",
       "    };\n",
       "\n",
       "    // Disable right mouse context menu.\n",
       "    this.rubberband_canvas.addEventListener('contextmenu', function (_e) {\n",
       "        event.preventDefault();\n",
       "        return false;\n",
       "    });\n",
       "\n",
       "    function set_focus() {\n",
       "        canvas.focus();\n",
       "        canvas_div.focus();\n",
       "    }\n",
       "\n",
       "    window.setTimeout(set_focus, 100);\n",
       "};\n",
       "\n",
       "mpl.figure.prototype._init_toolbar = function () {\n",
       "    var fig = this;\n",
       "\n",
       "    var toolbar = document.createElement('div');\n",
       "    toolbar.classList = 'mpl-toolbar';\n",
       "    this.root.appendChild(toolbar);\n",
       "\n",
       "    function on_click_closure(name) {\n",
       "        return function (_event) {\n",
       "            return fig.toolbar_button_onclick(name);\n",
       "        };\n",
       "    }\n",
       "\n",
       "    function on_mouseover_closure(tooltip) {\n",
       "        return function (event) {\n",
       "            if (!event.currentTarget.disabled) {\n",
       "                return fig.toolbar_button_onmouseover(tooltip);\n",
       "            }\n",
       "        };\n",
       "    }\n",
       "\n",
       "    fig.buttons = {};\n",
       "    var buttonGroup = document.createElement('div');\n",
       "    buttonGroup.classList = 'mpl-button-group';\n",
       "    for (var toolbar_ind in mpl.toolbar_items) {\n",
       "        var name = mpl.toolbar_items[toolbar_ind][0];\n",
       "        var tooltip = mpl.toolbar_items[toolbar_ind][1];\n",
       "        var image = mpl.toolbar_items[toolbar_ind][2];\n",
       "        var method_name = mpl.toolbar_items[toolbar_ind][3];\n",
       "\n",
       "        if (!name) {\n",
       "            /* Instead of a spacer, we start a new button group. */\n",
       "            if (buttonGroup.hasChildNodes()) {\n",
       "                toolbar.appendChild(buttonGroup);\n",
       "            }\n",
       "            buttonGroup = document.createElement('div');\n",
       "            buttonGroup.classList = 'mpl-button-group';\n",
       "            continue;\n",
       "        }\n",
       "\n",
       "        var button = (fig.buttons[name] = document.createElement('button'));\n",
       "        button.classList = 'mpl-widget';\n",
       "        button.setAttribute('role', 'button');\n",
       "        button.setAttribute('aria-disabled', 'false');\n",
       "        button.addEventListener('click', on_click_closure(method_name));\n",
       "        button.addEventListener('mouseover', on_mouseover_closure(tooltip));\n",
       "\n",
       "        var icon_img = document.createElement('img');\n",
       "        icon_img.src = '_images/' + image + '.png';\n",
       "        icon_img.srcset = '_images/' + image + '_large.png 2x';\n",
       "        icon_img.alt = tooltip;\n",
       "        button.appendChild(icon_img);\n",
       "\n",
       "        buttonGroup.appendChild(button);\n",
       "    }\n",
       "\n",
       "    if (buttonGroup.hasChildNodes()) {\n",
       "        toolbar.appendChild(buttonGroup);\n",
       "    }\n",
       "\n",
       "    var fmt_picker = document.createElement('select');\n",
       "    fmt_picker.classList = 'mpl-widget';\n",
       "    toolbar.appendChild(fmt_picker);\n",
       "    this.format_dropdown = fmt_picker;\n",
       "\n",
       "    for (var ind in mpl.extensions) {\n",
       "        var fmt = mpl.extensions[ind];\n",
       "        var option = document.createElement('option');\n",
       "        option.selected = fmt === mpl.default_extension;\n",
       "        option.innerHTML = fmt;\n",
       "        fmt_picker.appendChild(option);\n",
       "    }\n",
       "\n",
       "    var status_bar = document.createElement('span');\n",
       "    status_bar.classList = 'mpl-message';\n",
       "    toolbar.appendChild(status_bar);\n",
       "    this.message = status_bar;\n",
       "};\n",
       "\n",
       "mpl.figure.prototype.request_resize = function (x_pixels, y_pixels) {\n",
       "    // Request matplotlib to resize the figure. Matplotlib will then trigger a resize in the client,\n",
       "    // which will in turn request a refresh of the image.\n",
       "    this.send_message('resize', { width: x_pixels, height: y_pixels });\n",
       "};\n",
       "\n",
       "mpl.figure.prototype.send_message = function (type, properties) {\n",
       "    properties['type'] = type;\n",
       "    properties['figure_id'] = this.id;\n",
       "    this.ws.send(JSON.stringify(properties));\n",
       "};\n",
       "\n",
       "mpl.figure.prototype.send_draw_message = function () {\n",
       "    if (!this.waiting) {\n",
       "        this.waiting = true;\n",
       "        this.ws.send(JSON.stringify({ type: 'draw', figure_id: this.id }));\n",
       "    }\n",
       "};\n",
       "\n",
       "mpl.figure.prototype.handle_save = function (fig, _msg) {\n",
       "    var format_dropdown = fig.format_dropdown;\n",
       "    var format = format_dropdown.options[format_dropdown.selectedIndex].value;\n",
       "    fig.ondownload(fig, format);\n",
       "};\n",
       "\n",
       "mpl.figure.prototype.handle_resize = function (fig, msg) {\n",
       "    var size = msg['size'];\n",
       "    if (size[0] !== fig.canvas.width || size[1] !== fig.canvas.height) {\n",
       "        fig._resize_canvas(size[0], size[1], msg['forward']);\n",
       "        fig.send_message('refresh', {});\n",
       "    }\n",
       "};\n",
       "\n",
       "mpl.figure.prototype.handle_rubberband = function (fig, msg) {\n",
       "    var x0 = msg['x0'] / fig.ratio;\n",
       "    var y0 = (fig.canvas.height - msg['y0']) / fig.ratio;\n",
       "    var x1 = msg['x1'] / fig.ratio;\n",
       "    var y1 = (fig.canvas.height - msg['y1']) / fig.ratio;\n",
       "    x0 = Math.floor(x0) + 0.5;\n",
       "    y0 = Math.floor(y0) + 0.5;\n",
       "    x1 = Math.floor(x1) + 0.5;\n",
       "    y1 = Math.floor(y1) + 0.5;\n",
       "    var min_x = Math.min(x0, x1);\n",
       "    var min_y = Math.min(y0, y1);\n",
       "    var width = Math.abs(x1 - x0);\n",
       "    var height = Math.abs(y1 - y0);\n",
       "\n",
       "    fig.rubberband_context.clearRect(\n",
       "        0,\n",
       "        0,\n",
       "        fig.canvas.width / fig.ratio,\n",
       "        fig.canvas.height / fig.ratio\n",
       "    );\n",
       "\n",
       "    fig.rubberband_context.strokeRect(min_x, min_y, width, height);\n",
       "};\n",
       "\n",
       "mpl.figure.prototype.handle_figure_label = function (fig, msg) {\n",
       "    // Updates the figure title.\n",
       "    fig.header.textContent = msg['label'];\n",
       "};\n",
       "\n",
       "mpl.figure.prototype.handle_cursor = function (fig, msg) {\n",
       "    var cursor = msg['cursor'];\n",
       "    switch (cursor) {\n",
       "        case 0:\n",
       "            cursor = 'pointer';\n",
       "            break;\n",
       "        case 1:\n",
       "            cursor = 'default';\n",
       "            break;\n",
       "        case 2:\n",
       "            cursor = 'crosshair';\n",
       "            break;\n",
       "        case 3:\n",
       "            cursor = 'move';\n",
       "            break;\n",
       "    }\n",
       "    fig.rubberband_canvas.style.cursor = cursor;\n",
       "};\n",
       "\n",
       "mpl.figure.prototype.handle_message = function (fig, msg) {\n",
       "    fig.message.textContent = msg['message'];\n",
       "};\n",
       "\n",
       "mpl.figure.prototype.handle_draw = function (fig, _msg) {\n",
       "    // Request the server to send over a new figure.\n",
       "    fig.send_draw_message();\n",
       "};\n",
       "\n",
       "mpl.figure.prototype.handle_image_mode = function (fig, msg) {\n",
       "    fig.image_mode = msg['mode'];\n",
       "};\n",
       "\n",
       "mpl.figure.prototype.handle_history_buttons = function (fig, msg) {\n",
       "    for (var key in msg) {\n",
       "        if (!(key in fig.buttons)) {\n",
       "            continue;\n",
       "        }\n",
       "        fig.buttons[key].disabled = !msg[key];\n",
       "        fig.buttons[key].setAttribute('aria-disabled', !msg[key]);\n",
       "    }\n",
       "};\n",
       "\n",
       "mpl.figure.prototype.handle_navigate_mode = function (fig, msg) {\n",
       "    if (msg['mode'] === 'PAN') {\n",
       "        fig.buttons['Pan'].classList.add('active');\n",
       "        fig.buttons['Zoom'].classList.remove('active');\n",
       "    } else if (msg['mode'] === 'ZOOM') {\n",
       "        fig.buttons['Pan'].classList.remove('active');\n",
       "        fig.buttons['Zoom'].classList.add('active');\n",
       "    } else {\n",
       "        fig.buttons['Pan'].classList.remove('active');\n",
       "        fig.buttons['Zoom'].classList.remove('active');\n",
       "    }\n",
       "};\n",
       "\n",
       "mpl.figure.prototype.updated_canvas_event = function () {\n",
       "    // Called whenever the canvas gets updated.\n",
       "    this.send_message('ack', {});\n",
       "};\n",
       "\n",
       "// A function to construct a web socket function for onmessage handling.\n",
       "// Called in the figure constructor.\n",
       "mpl.figure.prototype._make_on_message_function = function (fig) {\n",
       "    return function socket_on_message(evt) {\n",
       "        if (evt.data instanceof Blob) {\n",
       "            /* FIXME: We get \"Resource interpreted as Image but\n",
       "             * transferred with MIME type text/plain:\" errors on\n",
       "             * Chrome.  But how to set the MIME type?  It doesn't seem\n",
       "             * to be part of the websocket stream */\n",
       "            evt.data.type = 'image/png';\n",
       "\n",
       "            /* Free the memory for the previous frames */\n",
       "            if (fig.imageObj.src) {\n",
       "                (window.URL || window.webkitURL).revokeObjectURL(\n",
       "                    fig.imageObj.src\n",
       "                );\n",
       "            }\n",
       "\n",
       "            fig.imageObj.src = (window.URL || window.webkitURL).createObjectURL(\n",
       "                evt.data\n",
       "            );\n",
       "            fig.updated_canvas_event();\n",
       "            fig.waiting = false;\n",
       "            return;\n",
       "        } else if (\n",
       "            typeof evt.data === 'string' &&\n",
       "            evt.data.slice(0, 21) === 'data:image/png;base64'\n",
       "        ) {\n",
       "            fig.imageObj.src = evt.data;\n",
       "            fig.updated_canvas_event();\n",
       "            fig.waiting = false;\n",
       "            return;\n",
       "        }\n",
       "\n",
       "        var msg = JSON.parse(evt.data);\n",
       "        var msg_type = msg['type'];\n",
       "\n",
       "        // Call the  \"handle_{type}\" callback, which takes\n",
       "        // the figure and JSON message as its only arguments.\n",
       "        try {\n",
       "            var callback = fig['handle_' + msg_type];\n",
       "        } catch (e) {\n",
       "            console.log(\n",
       "                \"No handler for the '\" + msg_type + \"' message type: \",\n",
       "                msg\n",
       "            );\n",
       "            return;\n",
       "        }\n",
       "\n",
       "        if (callback) {\n",
       "            try {\n",
       "                // console.log(\"Handling '\" + msg_type + \"' message: \", msg);\n",
       "                callback(fig, msg);\n",
       "            } catch (e) {\n",
       "                console.log(\n",
       "                    \"Exception inside the 'handler_\" + msg_type + \"' callback:\",\n",
       "                    e,\n",
       "                    e.stack,\n",
       "                    msg\n",
       "                );\n",
       "            }\n",
       "        }\n",
       "    };\n",
       "};\n",
       "\n",
       "// from http://stackoverflow.com/questions/1114465/getting-mouse-location-in-canvas\n",
       "mpl.findpos = function (e) {\n",
       "    //this section is from http://www.quirksmode.org/js/events_properties.html\n",
       "    var targ;\n",
       "    if (!e) {\n",
       "        e = window.event;\n",
       "    }\n",
       "    if (e.target) {\n",
       "        targ = e.target;\n",
       "    } else if (e.srcElement) {\n",
       "        targ = e.srcElement;\n",
       "    }\n",
       "    if (targ.nodeType === 3) {\n",
       "        // defeat Safari bug\n",
       "        targ = targ.parentNode;\n",
       "    }\n",
       "\n",
       "    // pageX,Y are the mouse positions relative to the document\n",
       "    var boundingRect = targ.getBoundingClientRect();\n",
       "    var x = e.pageX - (boundingRect.left + document.body.scrollLeft);\n",
       "    var y = e.pageY - (boundingRect.top + document.body.scrollTop);\n",
       "\n",
       "    return { x: x, y: y };\n",
       "};\n",
       "\n",
       "/*\n",
       " * return a copy of an object with only non-object keys\n",
       " * we need this to avoid circular references\n",
       " * http://stackoverflow.com/a/24161582/3208463\n",
       " */\n",
       "function simpleKeys(original) {\n",
       "    return Object.keys(original).reduce(function (obj, key) {\n",
       "        if (typeof original[key] !== 'object') {\n",
       "            obj[key] = original[key];\n",
       "        }\n",
       "        return obj;\n",
       "    }, {});\n",
       "}\n",
       "\n",
       "mpl.figure.prototype.mouse_event = function (event, name) {\n",
       "    var canvas_pos = mpl.findpos(event);\n",
       "\n",
       "    if (name === 'button_press') {\n",
       "        this.canvas.focus();\n",
       "        this.canvas_div.focus();\n",
       "    }\n",
       "\n",
       "    var x = canvas_pos.x * this.ratio;\n",
       "    var y = canvas_pos.y * this.ratio;\n",
       "\n",
       "    this.send_message(name, {\n",
       "        x: x,\n",
       "        y: y,\n",
       "        button: event.button,\n",
       "        step: event.step,\n",
       "        guiEvent: simpleKeys(event),\n",
       "    });\n",
       "\n",
       "    /* This prevents the web browser from automatically changing to\n",
       "     * the text insertion cursor when the button is pressed.  We want\n",
       "     * to control all of the cursor setting manually through the\n",
       "     * 'cursor' event from matplotlib */\n",
       "    event.preventDefault();\n",
       "    return false;\n",
       "};\n",
       "\n",
       "mpl.figure.prototype._key_event_extra = function (_event, _name) {\n",
       "    // Handle any extra behaviour associated with a key event\n",
       "};\n",
       "\n",
       "mpl.figure.prototype.key_event = function (event, name) {\n",
       "    // Prevent repeat events\n",
       "    if (name === 'key_press') {\n",
       "        if (event.which === this._key) {\n",
       "            return;\n",
       "        } else {\n",
       "            this._key = event.which;\n",
       "        }\n",
       "    }\n",
       "    if (name === 'key_release') {\n",
       "        this._key = null;\n",
       "    }\n",
       "\n",
       "    var value = '';\n",
       "    if (event.ctrlKey && event.which !== 17) {\n",
       "        value += 'ctrl+';\n",
       "    }\n",
       "    if (event.altKey && event.which !== 18) {\n",
       "        value += 'alt+';\n",
       "    }\n",
       "    if (event.shiftKey && event.which !== 16) {\n",
       "        value += 'shift+';\n",
       "    }\n",
       "\n",
       "    value += 'k';\n",
       "    value += event.which.toString();\n",
       "\n",
       "    this._key_event_extra(event, name);\n",
       "\n",
       "    this.send_message(name, { key: value, guiEvent: simpleKeys(event) });\n",
       "    return false;\n",
       "};\n",
       "\n",
       "mpl.figure.prototype.toolbar_button_onclick = function (name) {\n",
       "    if (name === 'download') {\n",
       "        this.handle_save(this, null);\n",
       "    } else {\n",
       "        this.send_message('toolbar_button', { name: name });\n",
       "    }\n",
       "};\n",
       "\n",
       "mpl.figure.prototype.toolbar_button_onmouseover = function (tooltip) {\n",
       "    this.message.textContent = tooltip;\n",
       "};\n",
       "mpl.toolbar_items = [[\"Home\", \"Reset original view\", \"fa fa-home icon-home\", \"home\"], [\"Back\", \"Back to previous view\", \"fa fa-arrow-left icon-arrow-left\", \"back\"], [\"Forward\", \"Forward to next view\", \"fa fa-arrow-right icon-arrow-right\", \"forward\"], [\"\", \"\", \"\", \"\"], [\"Pan\", \"Left button pans, Right button zooms\\nx/y fixes axis, CTRL fixes aspect\", \"fa fa-arrows icon-move\", \"pan\"], [\"Zoom\", \"Zoom to rectangle\\nx/y fixes axis, CTRL fixes aspect\", \"fa fa-square-o icon-check-empty\", \"zoom\"], [\"\", \"\", \"\", \"\"], [\"Download\", \"Download plot\", \"fa fa-floppy-o icon-save\", \"download\"]];\n",
       "\n",
       "mpl.extensions = [\"eps\", \"jpeg\", \"pdf\", \"png\", \"ps\", \"raw\", \"svg\", \"tif\"];\n",
       "\n",
       "mpl.default_extension = \"png\";/* global mpl */\n",
       "\n",
       "var comm_websocket_adapter = function (comm) {\n",
       "    // Create a \"websocket\"-like object which calls the given IPython comm\n",
       "    // object with the appropriate methods. Currently this is a non binary\n",
       "    // socket, so there is still some room for performance tuning.\n",
       "    var ws = {};\n",
       "\n",
       "    ws.close = function () {\n",
       "        comm.close();\n",
       "    };\n",
       "    ws.send = function (m) {\n",
       "        //console.log('sending', m);\n",
       "        comm.send(m);\n",
       "    };\n",
       "    // Register the callback with on_msg.\n",
       "    comm.on_msg(function (msg) {\n",
       "        //console.log('receiving', msg['content']['data'], msg);\n",
       "        // Pass the mpl event to the overridden (by mpl) onmessage function.\n",
       "        ws.onmessage(msg['content']['data']);\n",
       "    });\n",
       "    return ws;\n",
       "};\n",
       "\n",
       "mpl.mpl_figure_comm = function (comm, msg) {\n",
       "    // This is the function which gets called when the mpl process\n",
       "    // starts-up an IPython Comm through the \"matplotlib\" channel.\n",
       "\n",
       "    var id = msg.content.data.id;\n",
       "    // Get hold of the div created by the display call when the Comm\n",
       "    // socket was opened in Python.\n",
       "    var element = document.getElementById(id);\n",
       "    var ws_proxy = comm_websocket_adapter(comm);\n",
       "\n",
       "    function ondownload(figure, _format) {\n",
       "        window.open(figure.canvas.toDataURL());\n",
       "    }\n",
       "\n",
       "    var fig = new mpl.figure(id, ws_proxy, ondownload, element);\n",
       "\n",
       "    // Call onopen now - mpl needs it, as it is assuming we've passed it a real\n",
       "    // web socket which is closed, not our websocket->open comm proxy.\n",
       "    ws_proxy.onopen();\n",
       "\n",
       "    fig.parent_element = element;\n",
       "    fig.cell_info = mpl.find_output_cell(\"<div id='\" + id + \"'></div>\");\n",
       "    if (!fig.cell_info) {\n",
       "        console.error('Failed to find cell for figure', id, fig);\n",
       "        return;\n",
       "    }\n",
       "    fig.cell_info[0].output_area.element.one(\n",
       "        'cleared',\n",
       "        { fig: fig },\n",
       "        fig._remove_fig_handler\n",
       "    );\n",
       "};\n",
       "\n",
       "mpl.figure.prototype.handle_close = function (fig, msg) {\n",
       "    var width = fig.canvas.width / fig.ratio;\n",
       "    fig.cell_info[0].output_area.element.off(\n",
       "        'cleared',\n",
       "        fig._remove_fig_handler\n",
       "    );\n",
       "\n",
       "    // Update the output cell to use the data from the current canvas.\n",
       "    fig.push_to_output();\n",
       "    var dataURL = fig.canvas.toDataURL();\n",
       "    // Re-enable the keyboard manager in IPython - without this line, in FF,\n",
       "    // the notebook keyboard shortcuts fail.\n",
       "    IPython.keyboard_manager.enable();\n",
       "    fig.parent_element.innerHTML =\n",
       "        '<img src=\"' + dataURL + '\" width=\"' + width + '\">';\n",
       "    fig.close_ws(fig, msg);\n",
       "};\n",
       "\n",
       "mpl.figure.prototype.close_ws = function (fig, msg) {\n",
       "    fig.send_message('closing', msg);\n",
       "    // fig.ws.close()\n",
       "};\n",
       "\n",
       "mpl.figure.prototype.push_to_output = function (_remove_interactive) {\n",
       "    // Turn the data on the canvas into data in the output cell.\n",
       "    var width = this.canvas.width / this.ratio;\n",
       "    var dataURL = this.canvas.toDataURL();\n",
       "    this.cell_info[1]['text/html'] =\n",
       "        '<img src=\"' + dataURL + '\" width=\"' + width + '\">';\n",
       "};\n",
       "\n",
       "mpl.figure.prototype.updated_canvas_event = function () {\n",
       "    // Tell IPython that the notebook contents must change.\n",
       "    IPython.notebook.set_dirty(true);\n",
       "    this.send_message('ack', {});\n",
       "    var fig = this;\n",
       "    // Wait a second, then push the new image to the DOM so\n",
       "    // that it is saved nicely (might be nice to debounce this).\n",
       "    setTimeout(function () {\n",
       "        fig.push_to_output();\n",
       "    }, 1000);\n",
       "};\n",
       "\n",
       "mpl.figure.prototype._init_toolbar = function () {\n",
       "    var fig = this;\n",
       "\n",
       "    var toolbar = document.createElement('div');\n",
       "    toolbar.classList = 'btn-toolbar';\n",
       "    this.root.appendChild(toolbar);\n",
       "\n",
       "    function on_click_closure(name) {\n",
       "        return function (_event) {\n",
       "            return fig.toolbar_button_onclick(name);\n",
       "        };\n",
       "    }\n",
       "\n",
       "    function on_mouseover_closure(tooltip) {\n",
       "        return function (event) {\n",
       "            if (!event.currentTarget.disabled) {\n",
       "                return fig.toolbar_button_onmouseover(tooltip);\n",
       "            }\n",
       "        };\n",
       "    }\n",
       "\n",
       "    fig.buttons = {};\n",
       "    var buttonGroup = document.createElement('div');\n",
       "    buttonGroup.classList = 'btn-group';\n",
       "    var button;\n",
       "    for (var toolbar_ind in mpl.toolbar_items) {\n",
       "        var name = mpl.toolbar_items[toolbar_ind][0];\n",
       "        var tooltip = mpl.toolbar_items[toolbar_ind][1];\n",
       "        var image = mpl.toolbar_items[toolbar_ind][2];\n",
       "        var method_name = mpl.toolbar_items[toolbar_ind][3];\n",
       "\n",
       "        if (!name) {\n",
       "            /* Instead of a spacer, we start a new button group. */\n",
       "            if (buttonGroup.hasChildNodes()) {\n",
       "                toolbar.appendChild(buttonGroup);\n",
       "            }\n",
       "            buttonGroup = document.createElement('div');\n",
       "            buttonGroup.classList = 'btn-group';\n",
       "            continue;\n",
       "        }\n",
       "\n",
       "        button = fig.buttons[name] = document.createElement('button');\n",
       "        button.classList = 'btn btn-default';\n",
       "        button.href = '#';\n",
       "        button.title = name;\n",
       "        button.innerHTML = '<i class=\"fa ' + image + ' fa-lg\"></i>';\n",
       "        button.addEventListener('click', on_click_closure(method_name));\n",
       "        button.addEventListener('mouseover', on_mouseover_closure(tooltip));\n",
       "        buttonGroup.appendChild(button);\n",
       "    }\n",
       "\n",
       "    if (buttonGroup.hasChildNodes()) {\n",
       "        toolbar.appendChild(buttonGroup);\n",
       "    }\n",
       "\n",
       "    // Add the status bar.\n",
       "    var status_bar = document.createElement('span');\n",
       "    status_bar.classList = 'mpl-message pull-right';\n",
       "    toolbar.appendChild(status_bar);\n",
       "    this.message = status_bar;\n",
       "\n",
       "    // Add the close button to the window.\n",
       "    var buttongrp = document.createElement('div');\n",
       "    buttongrp.classList = 'btn-group inline pull-right';\n",
       "    button = document.createElement('button');\n",
       "    button.classList = 'btn btn-mini btn-primary';\n",
       "    button.href = '#';\n",
       "    button.title = 'Stop Interaction';\n",
       "    button.innerHTML = '<i class=\"fa fa-power-off icon-remove icon-large\"></i>';\n",
       "    button.addEventListener('click', function (_evt) {\n",
       "        fig.handle_close(fig, {});\n",
       "    });\n",
       "    button.addEventListener(\n",
       "        'mouseover',\n",
       "        on_mouseover_closure('Stop Interaction')\n",
       "    );\n",
       "    buttongrp.appendChild(button);\n",
       "    var titlebar = this.root.querySelector('.ui-dialog-titlebar');\n",
       "    titlebar.insertBefore(buttongrp, titlebar.firstChild);\n",
       "};\n",
       "\n",
       "mpl.figure.prototype._remove_fig_handler = function (event) {\n",
       "    var fig = event.data.fig;\n",
       "    fig.close_ws(fig, {});\n",
       "};\n",
       "\n",
       "mpl.figure.prototype._root_extra_style = function (el) {\n",
       "    el.style.boxSizing = 'content-box'; // override notebook setting of border-box.\n",
       "};\n",
       "\n",
       "mpl.figure.prototype._canvas_extra_style = function (el) {\n",
       "    // this is important to make the div 'focusable\n",
       "    el.setAttribute('tabindex', 0);\n",
       "    // reach out to IPython and tell the keyboard manager to turn it's self\n",
       "    // off when our div gets focus\n",
       "\n",
       "    // location in version 3\n",
       "    if (IPython.notebook.keyboard_manager) {\n",
       "        IPython.notebook.keyboard_manager.register_events(el);\n",
       "    } else {\n",
       "        // location in version 2\n",
       "        IPython.keyboard_manager.register_events(el);\n",
       "    }\n",
       "};\n",
       "\n",
       "mpl.figure.prototype._key_event_extra = function (event, _name) {\n",
       "    var manager = IPython.notebook.keyboard_manager;\n",
       "    if (!manager) {\n",
       "        manager = IPython.keyboard_manager;\n",
       "    }\n",
       "\n",
       "    // Check for shift+enter\n",
       "    if (event.shiftKey && event.which === 13) {\n",
       "        this.canvas_div.blur();\n",
       "        // select the cell after this one\n",
       "        var index = IPython.notebook.find_cell_index(this.cell_info[0]);\n",
       "        IPython.notebook.select(index + 1);\n",
       "    }\n",
       "};\n",
       "\n",
       "mpl.figure.prototype.handle_save = function (fig, _msg) {\n",
       "    fig.ondownload(fig, null);\n",
       "};\n",
       "\n",
       "mpl.find_output_cell = function (html_output) {\n",
       "    // Return the cell and output element which can be found *uniquely* in the notebook.\n",
       "    // Note - this is a bit hacky, but it is done because the \"notebook_saving.Notebook\"\n",
       "    // IPython event is triggered only after the cells have been serialised, which for\n",
       "    // our purposes (turning an active figure into a static one), is too late.\n",
       "    var cells = IPython.notebook.get_cells();\n",
       "    var ncells = cells.length;\n",
       "    for (var i = 0; i < ncells; i++) {\n",
       "        var cell = cells[i];\n",
       "        if (cell.cell_type === 'code') {\n",
       "            for (var j = 0; j < cell.output_area.outputs.length; j++) {\n",
       "                var data = cell.output_area.outputs[j];\n",
       "                if (data.data) {\n",
       "                    // IPython >= 3 moved mimebundle to data attribute of output\n",
       "                    data = data.data;\n",
       "                }\n",
       "                if (data['text/html'] === html_output) {\n",
       "                    return [cell, data, j];\n",
       "                }\n",
       "            }\n",
       "        }\n",
       "    }\n",
       "};\n",
       "\n",
       "// Register the function which deals with the matplotlib target/channel.\n",
       "// The kernel may be null if the page has been refreshed.\n",
       "if (IPython.notebook.kernel !== null) {\n",
       "    IPython.notebook.kernel.comm_manager.register_target(\n",
       "        'matplotlib',\n",
       "        mpl.mpl_figure_comm\n",
       "    );\n",
       "}\n"
      ],
      "text/plain": [
       "<IPython.core.display.Javascript object>"
      ]
     },
     "metadata": {},
     "output_type": "display_data"
    },
    {
     "data": {
      "text/html": [
       "<img src=\"data:image/png;base64,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\" width=\"1000\">"
      ],
      "text/plain": [
       "<IPython.core.display.HTML object>"
      ]
     },
     "metadata": {},
     "output_type": "display_data"
    }
   ],
   "source": [
    "view(result)"
   ]
  },
  {
   "cell_type": "markdown",
   "metadata": {
    "pycharm": {
     "name": "#%% md\n"
    }
   },
   "source": [
    "## Self-reading"
   ]
  },
  {
   "cell_type": "markdown",
   "metadata": {
    "pycharm": {
     "name": "#%% md\n"
    }
   },
   "source": [
    "- https://realpython.com/pointers-in-python/?fbclid=IwAR0cNGOTG3oL6-7gqZXgzGllS6FYHxjBMK8yrMT0SzW433yo87Vfc0SbxyY\n",
    "- https://mmazurek.dev/for-vs-list-comprehension-vs-map/?fbclid=IwAR1X8YDJE864J-umb05N_BjMtOvQyNDfFE_R8iO3A6tF7KcOA-is0ad-uj0"
   ]
  },
  {
   "cell_type": "code",
   "execution_count": null,
   "metadata": {
    "pycharm": {
     "name": "#%%\n"
    }
   },
   "outputs": [],
   "source": []
  }
 ],
 "metadata": {
  "celltoolbar": "Slideshow",
  "kernelspec": {
   "display_name": "Python 3 (ipykernel)",
   "language": "python",
   "name": "python3"
  },
  "language_info": {
   "codemirror_mode": {
    "name": "ipython",
    "version": 3
   },
   "file_extension": ".py",
   "mimetype": "text/x-python",
   "name": "python",
   "nbconvert_exporter": "python",
   "pygments_lexer": "ipython3",
   "version": "3.8.6"
  }
 },
 "nbformat": 4,
 "nbformat_minor": 2
}